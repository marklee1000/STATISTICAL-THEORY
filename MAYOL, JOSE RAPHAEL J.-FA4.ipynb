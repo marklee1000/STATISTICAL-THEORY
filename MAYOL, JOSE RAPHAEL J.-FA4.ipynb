{
 "cells": [
  {
   "cell_type": "markdown",
   "id": "b02dfb53-6c6c-456f-9c8c-a1791992daba",
   "metadata": {},
   "source": [
    "The data in Table 5.1 samples of size 50 from a normal distribution, a skewed-right distribution, a skewed-left distribution, and a uniform distribution.\r\n",
    "\r\n",
    "The normal data are female height measurements, the skewed-right data are age at marriage for females, the skewed-left data are obituary data that give the age at death for females, and the uniform data are the amount of cola put into a 12 ounce container by a soft drinks machine."
   ]
  },
  {
   "cell_type": "markdown",
   "id": "90447405-bd08-4977-bcc9-cb6ed8854fe1",
   "metadata": {},
   "source": [
    "1.) Find the (a) first, (b) second, (c) third, and (d) fourth moments for each of the sets of data (normal, skewed-right, skewed-left, uniform)."
   ]
  },
  {
   "cell_type": "code",
   "execution_count": 30,
   "id": "6de49a91-820e-4eb5-9a1d-73b614836cf9",
   "metadata": {},
   "outputs": [
    {
     "data": {
      "text/html": [
       "<style type=\"text/css\">\n",
       "</style>\n",
       "<table id=\"T_7dc86\">\n",
       "  <thead>\n",
       "    <tr>\n",
       "      <th id=\"T_7dc86_level0_col0\" class=\"col_heading level0 col0\" >Dataset</th>\n",
       "      <th id=\"T_7dc86_level0_col1\" class=\"col_heading level0 col1\" >First Moment</th>\n",
       "      <th id=\"T_7dc86_level0_col2\" class=\"col_heading level0 col2\" >Second Moment</th>\n",
       "      <th id=\"T_7dc86_level0_col3\" class=\"col_heading level0 col3\" >Third Moment</th>\n",
       "      <th id=\"T_7dc86_level0_col4\" class=\"col_heading level0 col4\" >Fourth Moment</th>\n",
       "    </tr>\n",
       "  </thead>\n",
       "  <tbody>\n",
       "    <tr>\n",
       "      <td id=\"T_7dc86_row0_col0\" class=\"data row0 col0\" >Normal</td>\n",
       "      <td id=\"T_7dc86_row0_col1\" class=\"data row0 col1\" >65.02</td>\n",
       "      <td id=\"T_7dc86_row0_col2\" class=\"data row0 col2\" >4234.62</td>\n",
       "      <td id=\"T_7dc86_row0_col3\" class=\"data row0 col3\" >276248.38</td>\n",
       "      <td id=\"T_7dc86_row0_col4\" class=\"data row0 col4\" >18050924.70</td>\n",
       "    </tr>\n",
       "    <tr>\n",
       "      <td id=\"T_7dc86_row1_col0\" class=\"data row1 col0\" >Skew Right</td>\n",
       "      <td id=\"T_7dc86_row1_col1\" class=\"data row1 col1\" >41.06</td>\n",
       "      <td id=\"T_7dc86_row1_col2\" class=\"data row1 col2\" >1899.94</td>\n",
       "      <td id=\"T_7dc86_row1_col3\" class=\"data row1 col3\" >98010.14</td>\n",
       "      <td id=\"T_7dc86_row1_col4\" class=\"data row1 col4\" >5497839.22</td>\n",
       "    </tr>\n",
       "    <tr>\n",
       "      <td id=\"T_7dc86_row2_col0\" class=\"data row2 col0\" >Skew Left</td>\n",
       "      <td id=\"T_7dc86_row2_col1\" class=\"data row2 col1\" >37.02</td>\n",
       "      <td id=\"T_7dc86_row2_col2\" class=\"data row2 col2\" >1646.94</td>\n",
       "      <td id=\"T_7dc86_row2_col3\" class=\"data row2 col3\" >90025.26</td>\n",
       "      <td id=\"T_7dc86_row2_col4\" class=\"data row2 col4\" >5867180.22</td>\n",
       "    </tr>\n",
       "    <tr>\n",
       "      <td id=\"T_7dc86_row3_col0\" class=\"data row3 col0\" >Uniform</td>\n",
       "      <td id=\"T_7dc86_row3_col1\" class=\"data row3 col1\" >69.80</td>\n",
       "      <td id=\"T_7dc86_row3_col2\" class=\"data row3 col2\" >5334.04</td>\n",
       "      <td id=\"T_7dc86_row3_col3\" class=\"data row3 col3\" >426483.92</td>\n",
       "      <td id=\"T_7dc86_row3_col4\" class=\"data row3 col4\" >35156430.28</td>\n",
       "    </tr>\n",
       "  </tbody>\n",
       "</table>\n"
      ],
      "text/plain": [
       "<pandas.io.formats.style.Styler at 0x25ff32b3050>"
      ]
     },
     "execution_count": 30,
     "metadata": {},
     "output_type": "execute_result"
    }
   ],
   "source": [
    "import pandas as pd\n",
    "\n",
    "normal = [67, 70, 63, 65, 68, 60, 65, 64, 69, 61, 66, 65, 71, 61, 69, 66, 68, 64, 61, 67, 61, 67, 62, 63, 65, 68, 66, 63, 64, 66, 66, 65, 64, 63, 66, 67, 65, 68, 64, 61, 60, 63, 65, 68, 69, 66, 63, 66, 64, 63]\n",
    "skew_right = [69, 62, 43, 59, 66, 65, 63, 65, 55, 60, 67, 64, 65, 68, 57, 34, 40, 29, 34, 26, 26, 28, 24, 23, 30, 29, 35, 34, 33, 29, 25, 35, 34, 34, 29, 26, 30, 33, 28, 31, 46, 35, 36, 35, 38, 39, 34, 35, 34, 34]\n",
    "skew_left = [31, 40, 24, 30, 38, 26, 29, 55, 46, 26, 34, 29, 34, 26, 57, 85, 85, 85, 41, 34, 19, 34, 28, 28, 30, 85, 30, 28, 31, 25, 25, 41, 58, 50, 26, 24, 26, 31, 38, 36, 38, 40, 35, 31, 38, 19, 28, 24, 22, 28]\n",
    "uniform = [102, 65, 70, 95, 73, 79, 60, 73, 84, 89, 85, 72, 76, 93, 92, 93, 76, 97, 97, 10, 10, 85, 25, 82, 83, 28, 92, 58, 65, 77, 92, 44, 50, 77, 65, 43, 48, 35, 77, 62, 55, 66, 63, 74, 65, 82, 77, 62, 85, 82]\n",
    "\n",
    "def mgf(array, order, about):\n",
    "    values = [(x - about)**order for x in array]\n",
    "    return sum(values) / len(values)\n",
    "\n",
    "data_1 = {\n",
    "    'Dataset': ['Normal', 'Skew Right', 'Skew Left', 'Uniform'],\n",
    "    'First Moment': [mgf(normal, 1, 0), mgf(skew_right, 1, 0), mgf(skew_left, 1, 0), mgf(uniform, 1, 0)],\n",
    "    'Second Moment': [mgf(normal, 2, 0), mgf(skew_right, 2, 0), mgf(skew_left, 2, 0), mgf(uniform, 2, 0)],\n",
    "    'Third Moment': [mgf(normal, 3, 0), mgf(skew_right, 3, 0), mgf(skew_left, 3, 0), mgf(uniform, 3, 0)],\n",
    "    'Fourth Moment': [mgf(normal, 4, 0), mgf(skew_right, 4, 0), mgf(skew_left, 4, 0), mgf(uniform, 4, 0)],\n",
    "}\n",
    "\n",
    "df_moments1 = pd.DataFrame(data_1)\n",
    "df_moments1.style.format(precision=2).hide(axis='index')"
   ]
  },
  {
   "cell_type": "markdown",
   "id": "853771f4-dccc-4f4b-bde7-a2d70d67f132",
   "metadata": {},
   "source": [
    "2.) Find the (a) first, (b) second, (c) third, and (d) fourth moments about the mean for each of the sets of data (normal, skewed-right, skewed-left, uniform)."
   ]
  },
  {
   "cell_type": "code",
   "execution_count": 32,
   "id": "dc1feaae-7abe-4a49-95bd-982d88fc81d7",
   "metadata": {},
   "outputs": [
    {
     "data": {
      "text/html": [
       "<style type=\"text/css\">\n",
       "</style>\n",
       "<table id=\"T_65983\">\n",
       "  <thead>\n",
       "    <tr>\n",
       "      <th id=\"T_65983_level0_col0\" class=\"col_heading level0 col0\" >Dataset</th>\n",
       "      <th id=\"T_65983_level0_col1\" class=\"col_heading level0 col1\" >First Moment About The Mean</th>\n",
       "      <th id=\"T_65983_level0_col2\" class=\"col_heading level0 col2\" >Second Moment About The Mean</th>\n",
       "      <th id=\"T_65983_level0_col3\" class=\"col_heading level0 col3\" >Third Moment About The Mean</th>\n",
       "      <th id=\"T_65983_level0_col4\" class=\"col_heading level0 col4\" >Fourth Moment About The Mean</th>\n",
       "    </tr>\n",
       "  </thead>\n",
       "  <tbody>\n",
       "    <tr>\n",
       "      <td id=\"T_65983_row0_col0\" class=\"data row0 col0\" >Normal</td>\n",
       "      <td id=\"T_65983_row0_col1\" class=\"data row0 col1\" >0.00</td>\n",
       "      <td id=\"T_65983_row0_col2\" class=\"data row0 col2\" >7.02</td>\n",
       "      <td id=\"T_65983_row0_col3\" class=\"data row0 col3\" >0.56</td>\n",
       "      <td id=\"T_65983_row0_col4\" class=\"data row0 col4\" >117.84</td>\n",
       "    </tr>\n",
       "    <tr>\n",
       "      <td id=\"T_65983_row1_col0\" class=\"data row1 col0\" >Skew Right</td>\n",
       "      <td id=\"T_65983_row1_col1\" class=\"data row1 col1\" >-0.00</td>\n",
       "      <td id=\"T_65983_row1_col2\" class=\"data row1 col2\" >214.02</td>\n",
       "      <td id=\"T_65983_row1_col3\" class=\"data row1 col3\" >2423.58</td>\n",
       "      <td id=\"T_65983_row1_col4\" class=\"data row1 col4\" >92560.78</td>\n",
       "    </tr>\n",
       "    <tr>\n",
       "      <td id=\"T_65983_row2_col0\" class=\"data row2 col0\" >Skew Left</td>\n",
       "      <td id=\"T_65983_row2_col1\" class=\"data row2 col1\" >-0.00</td>\n",
       "      <td id=\"T_65983_row2_col2\" class=\"data row2 col2\" >276.46</td>\n",
       "      <td id=\"T_65983_row2_col3\" class=\"data row2 col3\" >8586.47</td>\n",
       "      <td id=\"T_65983_row2_col4\" class=\"data row2 col4\" >444184.08</td>\n",
       "    </tr>\n",
       "    <tr>\n",
       "      <td id=\"T_65983_row3_col0\" class=\"data row3 col0\" >Uniform</td>\n",
       "      <td id=\"T_65983_row3_col1\" class=\"data row3 col1\" >0.00</td>\n",
       "      <td id=\"T_65983_row3_col2\" class=\"data row3 col2\" >462.00</td>\n",
       "      <td id=\"T_65983_row3_col3\" class=\"data row3 col3\" >-10327.27</td>\n",
       "      <td id=\"T_65983_row3_col4\" class=\"data row3 col4\" >797735.98</td>\n",
       "    </tr>\n",
       "  </tbody>\n",
       "</table>\n"
      ],
      "text/plain": [
       "<pandas.io.formats.style.Styler at 0x25ff3237390>"
      ]
     },
     "execution_count": 32,
     "metadata": {},
     "output_type": "execute_result"
    }
   ],
   "source": [
    "data_2 = {\n",
    "    'Dataset': ['Normal', 'Skew Right', 'Skew Left', 'Uniform'],\n",
    "    'First Moment About The Mean': [mgf(normal, 1, np.mean(normal)), mgf(skew_right, 1, np.mean(skew_right)), mgf(skew_left, 1, np.mean(skew_left)), mgf(uniform, 1, np.mean(uniform))],\n",
    "    'Second Moment About The Mean': [mgf(normal, 2, np.mean(normal)), mgf(skew_right, 2, np.mean(skew_right)), mgf(skew_left, 2, np.mean(skew_left)), mgf(uniform, 2, np.mean(uniform))],\n",
    "    'Third Moment About The Mean': [mgf(normal, 3, np.mean(normal)), mgf(skew_right, 3, np.mean(skew_right)), mgf(skew_left, 3, np.mean(skew_left)), mgf(uniform, 3, np.mean(uniform))],\n",
    "    'Fourth Moment About The Mean': [mgf(normal, 4, np.mean(normal)), mgf(skew_right, 4, np.mean(skew_right)), mgf(skew_left, 4, np.mean(skew_left)), mgf(uniform, 4, np.mean(uniform))],\n",
    "}\n",
    "\n",
    "df_moments2 = pd.DataFrame(data_2)\n",
    "df_moments2.style.format(precision=2).hide(axis='index')"
   ]
  },
  {
   "cell_type": "markdown",
   "id": "c9f19b7b-8536-4e8e-8774-c693372d6eb5",
   "metadata": {},
   "source": [
    "3.) Find the (a) first, (b) second, (c) third, and (d) fourth moments about the number 75 for the set of female height measurements."
   ]
  },
  {
   "cell_type": "code",
   "execution_count": 35,
   "id": "25deda4a-a982-467a-b435-fc174077a126",
   "metadata": {},
   "outputs": [
    {
     "data": {
      "text/html": [
       "<style type=\"text/css\">\n",
       "</style>\n",
       "<table id=\"T_21216\">\n",
       "  <thead>\n",
       "    <tr>\n",
       "      <th id=\"T_21216_level0_col0\" class=\"col_heading level0 col0\" >Dataset</th>\n",
       "      <th id=\"T_21216_level0_col1\" class=\"col_heading level0 col1\" >First Moment About 75</th>\n",
       "      <th id=\"T_21216_level0_col2\" class=\"col_heading level0 col2\" >Second Moment About 75</th>\n",
       "      <th id=\"T_21216_level0_col3\" class=\"col_heading level0 col3\" >Third Moment About 75</th>\n",
       "      <th id=\"T_21216_level0_col4\" class=\"col_heading level0 col4\" >Fourth Moment About 75</th>\n",
       "    </tr>\n",
       "  </thead>\n",
       "  <tbody>\n",
       "    <tr>\n",
       "      <td id=\"T_21216_row0_col0\" class=\"data row0 col0\" >Normal</td>\n",
       "      <td id=\"T_21216_row0_col1\" class=\"data row0 col1\" >-9.98</td>\n",
       "      <td id=\"T_21216_row0_col2\" class=\"data row0 col2\" >106.62</td>\n",
       "      <td id=\"T_21216_row0_col3\" class=\"data row0 col3\" >-1203.62</td>\n",
       "      <td id=\"T_21216_row0_col4\" class=\"data row0 col4\" >14210.70</td>\n",
       "    </tr>\n",
       "    <tr>\n",
       "      <td id=\"T_21216_row1_col0\" class=\"data row1 col0\" >Skew Right</td>\n",
       "      <td id=\"T_21216_row1_col1\" class=\"data row1 col1\" >-33.94</td>\n",
       "      <td id=\"T_21216_row1_col2\" class=\"data row1 col2\" >1365.94</td>\n",
       "      <td id=\"T_21216_row1_col3\" class=\"data row1 col3\" >-58463.86</td>\n",
       "      <td id=\"T_21216_row1_col4\" class=\"data row1 col4\" >2569647.22</td>\n",
       "    </tr>\n",
       "    <tr>\n",
       "      <td id=\"T_21216_row2_col0\" class=\"data row2 col0\" >Skew Left</td>\n",
       "      <td id=\"T_21216_row2_col1\" class=\"data row2 col1\" >-37.98</td>\n",
       "      <td id=\"T_21216_row2_col2\" class=\"data row2 col2\" >1718.94</td>\n",
       "      <td id=\"T_21216_row2_col3\" class=\"data row2 col3\" >-77698.74</td>\n",
       "      <td id=\"T_21216_row2_col4\" class=\"data row2 col4\" >3613202.22</td>\n",
       "    </tr>\n",
       "    <tr>\n",
       "      <td id=\"T_21216_row3_col0\" class=\"data row3 col0\" >Uniform</td>\n",
       "      <td id=\"T_21216_row3_col1\" class=\"data row3 col1\" >-5.20</td>\n",
       "      <td id=\"T_21216_row3_col2\" class=\"data row3 col2\" >489.04</td>\n",
       "      <td id=\"T_21216_row3_col3\" class=\"data row3 col3\" >-17675.08</td>\n",
       "      <td id=\"T_21216_row3_col4\" class=\"data row3 col4\" >1088229.28</td>\n",
       "    </tr>\n",
       "  </tbody>\n",
       "</table>\n"
      ],
      "text/plain": [
       "<pandas.io.formats.style.Styler at 0x25ff32be550>"
      ]
     },
     "execution_count": 35,
     "metadata": {},
     "output_type": "execute_result"
    }
   ],
   "source": [
    "data_3 = {\n",
    "    'Dataset': ['Normal', 'Skew Right', 'Skew Left', 'Uniform'],\n",
    "    'First Moment About 75': [mgf(normal, 1, 75), mgf(skew_right, 1, 75), mgf(skew_left, 1, 75), mgf(uniform, 1, 75)],\n",
    "    'Second Moment About 75': [mgf(normal, 2, 75), mgf(skew_right, 2, 75), mgf(skew_left, 2, 75), mgf(uniform, 2, 75)],\n",
    "    'Third Moment About 75': [mgf(normal, 3, 75), mgf(skew_right, 3, 75), mgf(skew_left, 3, 75), mgf(uniform, 3, 75)],\n",
    "    'Fourth Moment About 75': [mgf(normal, 4, 75), mgf(skew_right, 4, 75), mgf(skew_left, 4, 75), mgf(uniform, 4, 75)],\n",
    "}\n",
    "\n",
    "df_moments3 = pd.DataFrame(data_3)\n",
    "df_moments3.style.format(precision=2).hide(axis='index')"
   ]
  },
  {
   "cell_type": "markdown",
   "id": "65ab30c3-2d80-43a4-8df2-37af63d47323",
   "metadata": {},
   "source": [
    "4.) Using the results of items 2 and 3 for the set of female height measurements, verify the relations between the moments (a) \\$ m_2 = m'_2 - {m'_1}^2 \\$, (b) \\$ m_3 = m'_3 - 3{m'_1}{m'_2} + 2{m'_1}^3 \\$ and (c) \\$ m_4 = m'_4 - 4{m'_1}{m'_3} + 6{m'_1}^2{m'_2} - 3{m'_1}^4 \\$"
   ]
  },
  {
   "cell_type": "markdown",
   "id": "e2da7cf6-47ba-4766-81e7-ead743e1852f",
   "metadata": {},
   "source": [
    "(a) \\$ m_2 = m'_2 - {m'_1}^2 \\$"
   ]
  },
  {
   "cell_type": "code",
   "execution_count": 54,
   "id": "2e982ca8-e8c4-4756-b9d7-f0f0ebba074a",
   "metadata": {},
   "outputs": [
    {
     "data": {
      "text/html": [
       "<style type=\"text/css\">\n",
       "</style>\n",
       "<table id=\"T_1b3fd\">\n",
       "  <thead>\n",
       "    <tr>\n",
       "      <th id=\"T_1b3fd_level0_col0\" class=\"col_heading level0 col0\" >Second Moment About The Mean</th>\n",
       "      <th id=\"T_1b3fd_level0_col1\" class=\"col_heading level0 col1\" >Value</th>\n",
       "    </tr>\n",
       "  </thead>\n",
       "  <tbody>\n",
       "    <tr>\n",
       "      <td id=\"T_1b3fd_row0_col0\" class=\"data row0 col0\" >Obtained Earlier</td>\n",
       "      <td id=\"T_1b3fd_row0_col1\" class=\"data row0 col1\" >7.02</td>\n",
       "    </tr>\n",
       "    <tr>\n",
       "      <td id=\"T_1b3fd_row1_col0\" class=\"data row1 col0\" >From Identity</td>\n",
       "      <td id=\"T_1b3fd_row1_col1\" class=\"data row1 col1\" >7.02</td>\n",
       "    </tr>\n",
       "  </tbody>\n",
       "</table>\n"
      ],
      "text/plain": [
       "<pandas.io.formats.style.Styler at 0x25ff3379610>"
      ]
     },
     "execution_count": 54,
     "metadata": {},
     "output_type": "execute_result"
    }
   ],
   "source": [
    "second_moment = mgf(normal, 2, 75) - mgf(normal, 1, 75)**2\n",
    "\n",
    "data_4a = {\n",
    "    'Second Moment About The Mean': ['Obtained Earlier', 'From Identity'],\n",
    "    'Value': [mgf(normal, 2, np.mean(normal)), second_moment],\n",
    "}\n",
    "\n",
    "df_moments4a = pd.DataFrame(data_4a)\n",
    "df_moments4a.style.format(precision=2).hide(axis='index')"
   ]
  },
  {
   "cell_type": "markdown",
   "id": "cfe0e19e-3035-4a86-bff4-39b8059cb8f5",
   "metadata": {},
   "source": [
    "(b) \\$ m_3 = m'_3 - 3{m'_1}{m'_2} + 2{m'_1}^3 \\$"
   ]
  },
  {
   "cell_type": "code",
   "execution_count": 55,
   "id": "cf15499e-9733-4670-a9ef-7e735cc0b614",
   "metadata": {},
   "outputs": [
    {
     "data": {
      "text/html": [
       "<style type=\"text/css\">\n",
       "</style>\n",
       "<table id=\"T_00f06\">\n",
       "  <thead>\n",
       "    <tr>\n",
       "      <th id=\"T_00f06_level0_col0\" class=\"col_heading level0 col0\" >Third Moment About The Mean</th>\n",
       "      <th id=\"T_00f06_level0_col1\" class=\"col_heading level0 col1\" >Value</th>\n",
       "    </tr>\n",
       "  </thead>\n",
       "  <tbody>\n",
       "    <tr>\n",
       "      <td id=\"T_00f06_row0_col0\" class=\"data row0 col0\" >Obtained Earlier</td>\n",
       "      <td id=\"T_00f06_row0_col1\" class=\"data row0 col1\" >0.56</td>\n",
       "    </tr>\n",
       "    <tr>\n",
       "      <td id=\"T_00f06_row1_col0\" class=\"data row1 col0\" >From Identity</td>\n",
       "      <td id=\"T_00f06_row1_col1\" class=\"data row1 col1\" >0.56</td>\n",
       "    </tr>\n",
       "  </tbody>\n",
       "</table>\n"
      ],
      "text/plain": [
       "<pandas.io.formats.style.Styler at 0x25ff3372190>"
      ]
     },
     "execution_count": 55,
     "metadata": {},
     "output_type": "execute_result"
    }
   ],
   "source": [
    "third_moment = mgf(normal, 3, 75) - 3*mgf(normal, 1, 75)*mgf(normal, 2, 75) + 2*mgf(normal, 1, 75)**3\n",
    "\n",
    "data_4b = {\n",
    "    'Third Moment About The Mean': ['Obtained Earlier', 'From Identity'],\n",
    "    'Value': [mgf(normal, 3, np.mean(normal)), third_moment],\n",
    "}\n",
    "\n",
    "df_moments4b = pd.DataFrame(data_4b)\n",
    "df_moments4b.style.format(precision=2).hide(axis='index')"
   ]
  },
  {
   "cell_type": "markdown",
   "id": "42a8b590-1cf5-431e-a970-8bc7dd778d1f",
   "metadata": {},
   "source": [
    "(c) \\$ m_4 = m'_4 - 4{m'_1}{m'_3} + 6{m'_1}^2{m'_2} - 3{m'_1}^4 \\$"
   ]
  },
  {
   "cell_type": "code",
   "execution_count": 56,
   "id": "82b6cf13-bc7a-41f2-bc23-1fe1e429143a",
   "metadata": {},
   "outputs": [
    {
     "data": {
      "text/html": [
       "<style type=\"text/css\">\n",
       "</style>\n",
       "<table id=\"T_ba39a\">\n",
       "  <thead>\n",
       "    <tr>\n",
       "      <th id=\"T_ba39a_level0_col0\" class=\"col_heading level0 col0\" >Fourth Moment About The Mean</th>\n",
       "      <th id=\"T_ba39a_level0_col1\" class=\"col_heading level0 col1\" >Value</th>\n",
       "    </tr>\n",
       "  </thead>\n",
       "  <tbody>\n",
       "    <tr>\n",
       "      <td id=\"T_ba39a_row0_col0\" class=\"data row0 col0\" >Obtained Earlier</td>\n",
       "      <td id=\"T_ba39a_row0_col1\" class=\"data row0 col1\" >117.84</td>\n",
       "    </tr>\n",
       "    <tr>\n",
       "      <td id=\"T_ba39a_row1_col0\" class=\"data row1 col0\" >From Identity</td>\n",
       "      <td id=\"T_ba39a_row1_col1\" class=\"data row1 col1\" >117.84</td>\n",
       "    </tr>\n",
       "  </tbody>\n",
       "</table>\n"
      ],
      "text/plain": [
       "<pandas.io.formats.style.Styler at 0x25ff333ea90>"
      ]
     },
     "execution_count": 56,
     "metadata": {},
     "output_type": "execute_result"
    }
   ],
   "source": [
    "fourth_moment = mgf(normal, 4, 75) - 4*mgf(normal, 1, 75)*mgf(normal, 3, 75) + 6*(mgf(normal, 1, 75)**2)*mgf(normal, 2, 75) - 3*mgf(normal, 1, 75)**4\n",
    "\n",
    "data_4c = {\n",
    "    'Fourth Moment About The Mean': ['Obtained Earlier', 'From Identity'],\n",
    "    'Value': [mgf(normal, 4, np.mean(normal)), fourth_moment],\n",
    "}\n",
    "\n",
    "df_moments4c = pd.DataFrame(data_4c)\n",
    "df_moments4c.style.format(precision=2).hide(axis='index')"
   ]
  }
 ],
 "metadata": {
  "kernelspec": {
   "display_name": "Python 3 (ipykernel)",
   "language": "python",
   "name": "python3"
  },
  "language_info": {
   "codemirror_mode": {
    "name": "ipython",
    "version": 3
   },
   "file_extension": ".py",
   "mimetype": "text/x-python",
   "name": "python",
   "nbconvert_exporter": "python",
   "pygments_lexer": "ipython3",
   "version": "3.11.7"
  }
 },
 "nbformat": 4,
 "nbformat_minor": 5
}
