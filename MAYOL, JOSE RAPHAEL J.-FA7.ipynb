{
 "cells": [
  {
   "cell_type": "markdown",
   "id": "eb185d77",
   "metadata": {},
   "source": [
    "Provide an R or Python (with markdown) file for the independent samples t-test for Invisibility Cloak data set. "
   ]
  },
  {
   "cell_type": "code",
   "execution_count": 27,
   "id": "dd8c1b37",
   "metadata": {},
   "outputs": [
    {
     "data": {
      "text/html": [
       "<style type=\"text/css\">\n",
       "</style>\n",
       "<table id=\"T_85c77\">\n",
       "  <thead>\n",
       "    <tr>\n",
       "      <th id=\"T_85c77_level0_col0\" class=\"col_heading level0 col0\" >Participant</th>\n",
       "      <th id=\"T_85c77_level0_col1\" class=\"col_heading level0 col1\" >Cloak</th>\n",
       "      <th id=\"T_85c77_level0_col2\" class=\"col_heading level0 col2\" >Mischief</th>\n",
       "    </tr>\n",
       "  </thead>\n",
       "  <tbody>\n",
       "    <tr>\n",
       "      <td id=\"T_85c77_row0_col0\" class=\"data row0 col0\" >1</td>\n",
       "      <td id=\"T_85c77_row0_col1\" class=\"data row0 col1\" >0</td>\n",
       "      <td id=\"T_85c77_row0_col2\" class=\"data row0 col2\" >3</td>\n",
       "    </tr>\n",
       "    <tr>\n",
       "      <td id=\"T_85c77_row1_col0\" class=\"data row1 col0\" >2</td>\n",
       "      <td id=\"T_85c77_row1_col1\" class=\"data row1 col1\" >0</td>\n",
       "      <td id=\"T_85c77_row1_col2\" class=\"data row1 col2\" >1</td>\n",
       "    </tr>\n",
       "    <tr>\n",
       "      <td id=\"T_85c77_row2_col0\" class=\"data row2 col0\" >3</td>\n",
       "      <td id=\"T_85c77_row2_col1\" class=\"data row2 col1\" >0</td>\n",
       "      <td id=\"T_85c77_row2_col2\" class=\"data row2 col2\" >5</td>\n",
       "    </tr>\n",
       "    <tr>\n",
       "      <td id=\"T_85c77_row3_col0\" class=\"data row3 col0\" >4</td>\n",
       "      <td id=\"T_85c77_row3_col1\" class=\"data row3 col1\" >0</td>\n",
       "      <td id=\"T_85c77_row3_col2\" class=\"data row3 col2\" >4</td>\n",
       "    </tr>\n",
       "    <tr>\n",
       "      <td id=\"T_85c77_row4_col0\" class=\"data row4 col0\" >5</td>\n",
       "      <td id=\"T_85c77_row4_col1\" class=\"data row4 col1\" >0</td>\n",
       "      <td id=\"T_85c77_row4_col2\" class=\"data row4 col2\" >6</td>\n",
       "    </tr>\n",
       "    <tr>\n",
       "      <td id=\"T_85c77_row5_col0\" class=\"data row5 col0\" >6</td>\n",
       "      <td id=\"T_85c77_row5_col1\" class=\"data row5 col1\" >0</td>\n",
       "      <td id=\"T_85c77_row5_col2\" class=\"data row5 col2\" >4</td>\n",
       "    </tr>\n",
       "    <tr>\n",
       "      <td id=\"T_85c77_row6_col0\" class=\"data row6 col0\" >7</td>\n",
       "      <td id=\"T_85c77_row6_col1\" class=\"data row6 col1\" >0</td>\n",
       "      <td id=\"T_85c77_row6_col2\" class=\"data row6 col2\" >6</td>\n",
       "    </tr>\n",
       "    <tr>\n",
       "      <td id=\"T_85c77_row7_col0\" class=\"data row7 col0\" >8</td>\n",
       "      <td id=\"T_85c77_row7_col1\" class=\"data row7 col1\" >0</td>\n",
       "      <td id=\"T_85c77_row7_col2\" class=\"data row7 col2\" >2</td>\n",
       "    </tr>\n",
       "    <tr>\n",
       "      <td id=\"T_85c77_row8_col0\" class=\"data row8 col0\" >9</td>\n",
       "      <td id=\"T_85c77_row8_col1\" class=\"data row8 col1\" >0</td>\n",
       "      <td id=\"T_85c77_row8_col2\" class=\"data row8 col2\" >0</td>\n",
       "    </tr>\n",
       "    <tr>\n",
       "      <td id=\"T_85c77_row9_col0\" class=\"data row9 col0\" >10</td>\n",
       "      <td id=\"T_85c77_row9_col1\" class=\"data row9 col1\" >0</td>\n",
       "      <td id=\"T_85c77_row9_col2\" class=\"data row9 col2\" >5</td>\n",
       "    </tr>\n",
       "    <tr>\n",
       "      <td id=\"T_85c77_row10_col0\" class=\"data row10 col0\" >11</td>\n",
       "      <td id=\"T_85c77_row10_col1\" class=\"data row10 col1\" >0</td>\n",
       "      <td id=\"T_85c77_row10_col2\" class=\"data row10 col2\" >4</td>\n",
       "    </tr>\n",
       "    <tr>\n",
       "      <td id=\"T_85c77_row11_col0\" class=\"data row11 col0\" >12</td>\n",
       "      <td id=\"T_85c77_row11_col1\" class=\"data row11 col1\" >0</td>\n",
       "      <td id=\"T_85c77_row11_col2\" class=\"data row11 col2\" >5</td>\n",
       "    </tr>\n",
       "    <tr>\n",
       "      <td id=\"T_85c77_row12_col0\" class=\"data row12 col0\" >13</td>\n",
       "      <td id=\"T_85c77_row12_col1\" class=\"data row12 col1\" >1</td>\n",
       "      <td id=\"T_85c77_row12_col2\" class=\"data row12 col2\" >4</td>\n",
       "    </tr>\n",
       "    <tr>\n",
       "      <td id=\"T_85c77_row13_col0\" class=\"data row13 col0\" >14</td>\n",
       "      <td id=\"T_85c77_row13_col1\" class=\"data row13 col1\" >1</td>\n",
       "      <td id=\"T_85c77_row13_col2\" class=\"data row13 col2\" >3</td>\n",
       "    </tr>\n",
       "    <tr>\n",
       "      <td id=\"T_85c77_row14_col0\" class=\"data row14 col0\" >15</td>\n",
       "      <td id=\"T_85c77_row14_col1\" class=\"data row14 col1\" >1</td>\n",
       "      <td id=\"T_85c77_row14_col2\" class=\"data row14 col2\" >6</td>\n",
       "    </tr>\n",
       "    <tr>\n",
       "      <td id=\"T_85c77_row15_col0\" class=\"data row15 col0\" >16</td>\n",
       "      <td id=\"T_85c77_row15_col1\" class=\"data row15 col1\" >1</td>\n",
       "      <td id=\"T_85c77_row15_col2\" class=\"data row15 col2\" >6</td>\n",
       "    </tr>\n",
       "    <tr>\n",
       "      <td id=\"T_85c77_row16_col0\" class=\"data row16 col0\" >17</td>\n",
       "      <td id=\"T_85c77_row16_col1\" class=\"data row16 col1\" >1</td>\n",
       "      <td id=\"T_85c77_row16_col2\" class=\"data row16 col2\" >8</td>\n",
       "    </tr>\n",
       "    <tr>\n",
       "      <td id=\"T_85c77_row17_col0\" class=\"data row17 col0\" >18</td>\n",
       "      <td id=\"T_85c77_row17_col1\" class=\"data row17 col1\" >1</td>\n",
       "      <td id=\"T_85c77_row17_col2\" class=\"data row17 col2\" >5</td>\n",
       "    </tr>\n",
       "    <tr>\n",
       "      <td id=\"T_85c77_row18_col0\" class=\"data row18 col0\" >19</td>\n",
       "      <td id=\"T_85c77_row18_col1\" class=\"data row18 col1\" >1</td>\n",
       "      <td id=\"T_85c77_row18_col2\" class=\"data row18 col2\" >5</td>\n",
       "    </tr>\n",
       "    <tr>\n",
       "      <td id=\"T_85c77_row19_col0\" class=\"data row19 col0\" >20</td>\n",
       "      <td id=\"T_85c77_row19_col1\" class=\"data row19 col1\" >1</td>\n",
       "      <td id=\"T_85c77_row19_col2\" class=\"data row19 col2\" >4</td>\n",
       "    </tr>\n",
       "    <tr>\n",
       "      <td id=\"T_85c77_row20_col0\" class=\"data row20 col0\" >21</td>\n",
       "      <td id=\"T_85c77_row20_col1\" class=\"data row20 col1\" >1</td>\n",
       "      <td id=\"T_85c77_row20_col2\" class=\"data row20 col2\" >2</td>\n",
       "    </tr>\n",
       "    <tr>\n",
       "      <td id=\"T_85c77_row21_col0\" class=\"data row21 col0\" >22</td>\n",
       "      <td id=\"T_85c77_row21_col1\" class=\"data row21 col1\" >1</td>\n",
       "      <td id=\"T_85c77_row21_col2\" class=\"data row21 col2\" >5</td>\n",
       "    </tr>\n",
       "    <tr>\n",
       "      <td id=\"T_85c77_row22_col0\" class=\"data row22 col0\" >23</td>\n",
       "      <td id=\"T_85c77_row22_col1\" class=\"data row22 col1\" >1</td>\n",
       "      <td id=\"T_85c77_row22_col2\" class=\"data row22 col2\" >7</td>\n",
       "    </tr>\n",
       "    <tr>\n",
       "      <td id=\"T_85c77_row23_col0\" class=\"data row23 col0\" >24</td>\n",
       "      <td id=\"T_85c77_row23_col1\" class=\"data row23 col1\" >1</td>\n",
       "      <td id=\"T_85c77_row23_col2\" class=\"data row23 col2\" >5</td>\n",
       "    </tr>\n",
       "  </tbody>\n",
       "</table>\n"
      ],
      "text/plain": [
       "<pandas.io.formats.style.Styler at 0x1a210a35010>"
      ]
     },
     "metadata": {},
     "output_type": "display_data"
    }
   ],
   "source": [
    "import pandas as pd\n",
    "from IPython.display import display\n",
    "\n",
    "df = pd.read_csv('Invisibility_Cloak.csv')\n",
    "display(df.style.hide(axis=\"index\"))"
   ]
  },
  {
   "cell_type": "markdown",
   "id": "be53133c",
   "metadata": {},
   "source": [
    "We want to run an independent-samples t-test for the given dataset, but before we can proceed, we will first need to verify if the required assumptions are met."
   ]
  },
  {
   "cell_type": "markdown",
   "id": "e98eae80",
   "metadata": {},
   "source": [
    "*Checking Assumptions*"
   ]
  },
  {
   "cell_type": "markdown",
   "id": "649c7b7e",
   "metadata": {},
   "source": [
    "**Assumption 1:** There is one dependent variable that is measured at the continous level."
   ]
  },
  {
   "cell_type": "markdown",
   "id": "9615a242",
   "metadata": {},
   "source": [
    "<ins>Mischief</ins> is a variable that fulfills the said requirement. Thus, Assumption 1 is met."
   ]
  },
  {
   "cell_type": "markdown",
   "id": "b10e3192",
   "metadata": {},
   "source": [
    "**Assumption 2:** There is one independent variable that consists of two categorical, independent groups."
   ]
  },
  {
   "cell_type": "markdown",
   "id": "74ab2448",
   "metadata": {},
   "source": [
    "<ins>Cloak</ins> is an independent dichotomous variable with only the values '0' or '1'. Hence, Assumption 2 is met."
   ]
  },
  {
   "cell_type": "markdown",
   "id": "3f6c79a4",
   "metadata": {},
   "source": [
    "**Assumption 3:** The data should have independence of observations, meaning that there is no relationship between the observations in each group of the independent variable or between the groups themselves."
   ]
  },
  {
   "cell_type": "markdown",
   "id": "054dc8fe",
   "metadata": {},
   "source": [
    "There is no <ins>participant</ins> that both has and does not have a cloak. This means that each participant is present to only one group, therefore Assumption 3 is met."
   ]
  },
  {
   "cell_type": "markdown",
   "id": "4a0da4a1",
   "metadata": {},
   "source": [
    "**Assumption 4 (Outliers):** There should be no significant outliers in the two groups of the independent variable in terms of the dependent variable."
   ]
  },
  {
   "cell_type": "code",
   "execution_count": 2,
   "id": "1bbb06bb",
   "metadata": {},
   "outputs": [
    {
     "name": "stderr",
     "output_type": "stream",
     "text": [
      "C:\\Users\\Joel Mayol\\AppData\\Local\\Temp\\ipykernel_20924\\3142149149.py:27: UserWarning: This figure includes Axes that are not compatible with tight_layout, so results might be incorrect.\n",
      "  plt.tight_layout(rect=[0, 0, 1, 0.95])\n"
     ]
    },
    {
     "data": {
      "image/png": "[encoded data removed]",
      "text/plain": [
       "<Figure size 1000x600 with 2 Axes>"
      ]
     },
     "metadata": {},
     "output_type": "display_data"
    }
   ],
   "source": [
    "import matplotlib.pyplot as plt\n",
    "import seaborn as sns\n",
    "import numpy as np\n",
    "\n",
    "sns.set(style=\"whitegrid\")\n",
    "\n",
    "fig = plt.figure(figsize=(10, 6))\n",
    "grid = plt.GridSpec(1, 2, width_ratios=[3, 1], wspace=0.05)\n",
    "ax_main = fig.add_subplot(grid[0])\n",
    "\n",
    "sns.boxplot(x=\"Cloak\", y=\"Mischief\", data=df, palette=\"Set2\", width=0.25, showcaps=True, \n",
    "            boxprops={'facecolor':'None', 'edgecolor':'black'}, showfliers=True, \n",
    "            whiskerprops={'linewidth':2, 'color': 'black'}, ax=ax_main)\n",
    "sns.stripplot(x=\"Cloak\", y=\"Mischief\", data=df, palette=\"Set2\", jitter=True, dodge=True, \n",
    "              size=6, ax=ax_main, alpha=0.7)\n",
    "\n",
    "ax_kde = fig.add_subplot(grid[1], sharey=ax_main)\n",
    "\n",
    "for i, cloak_type in enumerate(df[\"Cloak\"].unique()):\n",
    "    subset = df[df['Cloak'] == cloak_type]\n",
    "    sns.kdeplot(data=subset, y=\"Mischief\", ax=ax_kde, bw_adjust=0.6, fill=True, \n",
    "                color=sns.color_palette(\"Set2\")[i], alpha=0.6, linewidth=0)\n",
    "\n",
    "ax_kde.get_xaxis().set_visible(False)\n",
    "ax_kde.set_ylabel('')\n",
    "plt.suptitle('Raincloud Plots', fontsize=14, style='italic', x=0.25)\n",
    "plt.tight_layout(rect=[0, 0, 1, 0.95])\n",
    "plt.show()"
   ]
  },
  {
   "cell_type": "markdown",
   "id": "ec18ed30",
   "metadata": {},
   "source": [
    "Visual inspection of boxplots shows that there are no notable outliers in the two independent variable groups (Cloak) concerning the dependent variable (Mischief)."
   ]
  },
  {
   "cell_type": "markdown",
   "id": "22e28959",
   "metadata": {},
   "source": [
    "**Assumption 5 (Normality):** The dependent variable should be approximately normally distributed within each group of the independent variable."
   ]
  },
  {
   "cell_type": "code",
   "execution_count": 31,
   "id": "340d6669",
   "metadata": {},
   "outputs": [
    {
     "data": {
      "text/html": [
       "<style type=\"text/css\">\n",
       "</style>\n",
       "<table id=\"T_de7df\">\n",
       "  <thead>\n",
       "    <tr>\n",
       "      <th id=\"T_de7df_level0_col0\" class=\"col_heading level0 col0\" >Mischief</th>\n",
       "      <th id=\"T_de7df_level0_col1\" class=\"col_heading level0 col1\" >W</th>\n",
       "      <th id=\"T_de7df_level0_col2\" class=\"col_heading level0 col2\" >p</th>\n",
       "    </tr>\n",
       "  </thead>\n",
       "  <tbody>\n",
       "    <tr>\n",
       "      <td id=\"T_de7df_row0_col0\" class=\"data row0 col0\" >Without a cloak</td>\n",
       "      <td id=\"T_de7df_row0_col1\" class=\"data row0 col1\" >0.912764</td>\n",
       "      <td id=\"T_de7df_row0_col2\" class=\"data row0 col2\" >0.231446</td>\n",
       "    </tr>\n",
       "    <tr>\n",
       "      <td id=\"T_de7df_row1_col0\" class=\"data row1 col0\" >With a cloak</td>\n",
       "      <td id=\"T_de7df_row1_col1\" class=\"data row1 col1\" >0.972617</td>\n",
       "      <td id=\"T_de7df_row1_col2\" class=\"data row1 col2\" >0.936188</td>\n",
       "    </tr>\n",
       "  </tbody>\n",
       "</table>\n"
      ],
      "text/plain": [
       "<pandas.io.formats.style.Styler at 0x1a20caf2f50>"
      ]
     },
     "metadata": {},
     "output_type": "display_data"
    }
   ],
   "source": [
    "without_cloak = df[df['Cloak'] == 0]['Mischief']\n",
    "with_cloak = df[df['Cloak'] == 1]['Mischief']\n",
    "\n",
    "from scipy import stats\n",
    "\n",
    "stat_without_cloak, p_without_cloak = stats.shapiro(without_cloak)\n",
    "stat_with_cloak, p_with_cloak = stats.shapiro(with_cloak)\n",
    "\n",
    "shapiro_df = pd.DataFrame({\n",
    "    'Mischief': ['Without a cloak', 'With a cloak'],\n",
    "    'W': [stat_without_cloak, stat_with_cloak],\n",
    "    'p': [p_without_cloak, p_with_cloak]\n",
    "})\n",
    "\n",
    "display(shapiro_df.style.hide(axis=\"index\"))"
   ]
  },
  {
   "cell_type": "markdown",
   "id": "f3a0307c-5214-4dc2-a277-6e2431d68679",
   "metadata": {},
   "source": [
    "Since p > 0.05 for both rows, then by the Shapiro-Wilk Test, the dependent variable (Mischief) is normally distributed for every group of Cloak."
   ]
  },
  {
   "cell_type": "markdown",
   "id": "b9da9e39-e4ce-4091-9393-6021b353f785",
   "metadata": {},
   "source": [
    "**Assumption 6 (Homogeneity of Variances):** There should be an equality of variances between the groups with and without the Cloak on their number of Mischief. If p > 0.05, then this hypothesis is met."
   ]
  },
  {
   "cell_type": "code",
   "execution_count": 4,
   "id": "fe2b7e5a",
   "metadata": {},
   "outputs": [
    {
     "data": {
      "text/html": [
       "<style type=\"text/css\">\n",
       "</style>\n",
       "<table id=\"T_9588f\">\n",
       "  <thead>\n",
       "    <tr>\n",
       "      <th id=\"T_9588f_level0_col0\" class=\"col_heading level0 col0\" >F</th>\n",
       "      <th id=\"T_9588f_level0_col1\" class=\"col_heading level0 col1\" >df</th>\n",
       "      <th id=\"T_9588f_level0_col2\" class=\"col_heading level0 col2\" >p</th>\n",
       "    </tr>\n",
       "  </thead>\n",
       "  <tbody>\n",
       "    <tr>\n",
       "      <td id=\"T_9588f_row0_col0\" class=\"data row0 col0\" >0.270000</td>\n",
       "      <td id=\"T_9588f_row0_col1\" class=\"data row0 col1\" >1</td>\n",
       "      <td id=\"T_9588f_row0_col2\" class=\"data row0 col2\" >0.609000</td>\n",
       "    </tr>\n",
       "  </tbody>\n",
       "</table>\n"
      ],
      "text/plain": [
       "<pandas.io.formats.style.Styler at 0x1a20fc50450>"
      ]
     },
     "metadata": {},
     "output_type": "display_data"
    }
   ],
   "source": [
    "stat_levene, p_levene = stats.levene(without_cloak, with_cloak)\n",
    "\n",
    "levene_df = pd.DataFrame({\n",
    "    'F': [stat_levene],\n",
    "    'df': [1],\n",
    "    'p': [p_levene]\n",
    "})\n",
    "\n",
    "shapiro_df['W'] = shapiro_df['W'].round(3)\n",
    "shapiro_df['p'] = shapiro_df['p'].round(3)\n",
    "levene_df['F'] = levene_df['F'].round(3)\n",
    "levene_df['p'] = levene_df['p'].round(3)\n",
    "\n",
    "display(levene_df.style.hide(axis=\"index\"))"
   ]
  },
  {
   "cell_type": "markdown",
   "id": "84699ab5-7fa0-4cd6-92a5-4e492fee71fd",
   "metadata": {},
   "source": [
    "Since p > 0.05, then there is no significant difference between the variances. Hence, there is an equality of variances between the Cloak groups."
   ]
  },
  {
   "cell_type": "markdown",
   "id": "34e32359-08cb-4021-aacd-9e358646a719",
   "metadata": {},
   "source": [
    "***INDEPENDENT SAMPLES T-TEST.***"
   ]
  },
  {
   "cell_type": "code",
   "execution_count": 24,
   "id": "94243bbd-8600-47c1-bd86-041cc1a1eccd",
   "metadata": {},
   "outputs": [
    {
     "data": {
      "text/html": [
       "<div>\n",
       "<style scoped>\n",
       "    .dataframe tbody tr th:only-of-type {\n",
       "        vertical-align: middle;\n",
       "    }\n",
       "\n",
       "    .dataframe tbody tr th {\n",
       "        vertical-align: top;\n",
       "    }\n",
       "\n",
       "    .dataframe thead th {\n",
       "        text-align: right;\n",
       "    }\n",
       "</style>\n",
       "<table border=\"1\" class=\"dataframe\">\n",
       "  <thead>\n",
       "    <tr style=\"text-align: right;\">\n",
       "      <th></th>\n",
       "      <th>t</th>\n",
       "      <th>df</th>\n",
       "      <th>p</th>\n",
       "      <th>Mean Difference</th>\n",
       "      <th>SE Difference</th>\n",
       "      <th>95% CI for Mean Difference (Lower; Upper)</th>\n",
       "    </tr>\n",
       "  </thead>\n",
       "  <tbody>\n",
       "    <tr>\n",
       "      <th>0</th>\n",
       "      <td>-1.713459</td>\n",
       "      <td>22</td>\n",
       "      <td>0.100686</td>\n",
       "      <td>-1.25</td>\n",
       "      <td>0.729518</td>\n",
       "      <td>(-2.7629; 0.2629)</td>\n",
       "    </tr>\n",
       "  </tbody>\n",
       "</table>\n",
       "</div>"
      ],
      "text/plain": [
       "          t  df         p  Mean Difference  SE Difference  \\\n",
       "0 -1.713459  22  0.100686            -1.25       0.729518   \n",
       "\n",
       "  95% CI for Mean Difference (Lower; Upper)  \n",
       "0                         (-2.7629; 0.2629)  "
      ]
     },
     "execution_count": 24,
     "metadata": {},
     "output_type": "execute_result"
    }
   ],
   "source": [
    "t_statistic, p_value = stats.ttest_ind(without_cloak, with_cloak)\n",
    "\n",
    "mean_without_cloak = np.mean(without_cloak)\n",
    "mean_with_cloak = np.mean(with_cloak)\n",
    "\n",
    "mean_difference = mean_without_cloak - mean_with_cloak\n",
    "\n",
    "n1 = len(without_cloak)\n",
    "n2 = len(with_cloak)\n",
    "se_difference = np.sqrt((np.var(without_cloak, ddof=1) / n1) + (np.var(with_cloak, ddof=1) / n2))\n",
    "\n",
    "df = n1 + n2 - 2\n",
    "\n",
    "alpha = 0.05\n",
    "critical_value = stats.t.ppf(1 - alpha/2, df)\n",
    "margin_of_error = critical_value * se_difference\n",
    "ci_lower = (mean_difference - margin_of_error)\n",
    "ci_upper = (mean_difference + margin_of_error)\n",
    "\n",
    "results_df = pd.DataFrame({\n",
    "    't': [t_statistic],\n",
    "    'df': [df],\n",
    "    'p': [p_value],\n",
    "    'Mean Difference': [mean_difference],\n",
    "    'SE Difference': [se_difference],\n",
    "    '95% CI for Mean Difference (Lower; Upper)': [f'({ci_lower:.4f}; {ci_upper:.4f})']\n",
    "})\n",
    "\n",
    "results_df"
   ]
  },
  {
   "cell_type": "markdown",
   "id": "71f2d87e-dc9d-4b92-b103-8a46acbb6f7d",
   "metadata": {},
   "source": [
    "This table presents the results of the independent samples t-test. The differences between the groups are not statistically significant at the .05 level, indicating that there is insufficient evidence to reject the null hypothesis."
   ]
  },
  {
   "cell_type": "markdown",
   "id": "321657cd-bd2c-4d65-8ece-60cc6bec431c",
   "metadata": {},
   "source": [
    "***REPORT***\n",
    "\n",
    "The purpose of this analysis was to investigate the impact of the variable \"Cloak\" on the \"Mischief\" scores among participants. The dataset consists of two groups: participants with a cloak (coded as '1') and participants without a cloak (coded as '0'). An independent samples t-test was conducted to determine whether there are significant differences in the mean Mischief scores between these two groups.\n",
    "\n",
    "The dataset includes a total of 24 participants. Participants without a cloak (n = 12) had the following Mischief scores: 3, 1, 5, 4, 6, 4, 6, 2, 0, 5, 4, and 5. Participants with a cloak (n = 12) had the following scores: 4, 3, 6, 6, 8, 5, 5, 4, 2, 5, 7, and 5.\n",
    "\n",
    "An independent samples t-test was performed to compare the Mischief scores between the two groups. The assumptions of normality and homogeneity of variances were assessed and found to be satisfactory.\n",
    "\n",
    "The findings suggest that the presence of a cloak does not have a statistically significant effect on Mischief scores at the .05 significance level. As the p-value (0.101) exceeds the alpha level of 0.05, we do not reject the null hypothesis, indicating that the data do not provide strong evidence to suggest a difference in Mischief scores based on cloak status. Moreover, the results of Levene’s test support the robustness of the t-test, confirming that equal variances were maintained. This strengthens the reliability of our findings.\n",
    "\n",
    "Further research may be needed to explore other factors that could influence Mischief behavior, as the current study did not find significant evidence to support a relationship between cloak use and Mischief scores.\n",
    "\n",
    "In conclusion, this independent samples t-test revealed no significant difference in Mischief scores between participants with and without a cloak. Future studies may benefit from a larger sample size or exploring additional variables that could contribute to Mischief behavior."
   ]
  },
  {
   "cell_type": "code",
   "execution_count": null,
   "id": "19936150-3c35-436f-9d80-51314413fd35",
   "metadata": {},
   "outputs": [],
   "source": []
  }
 ],
 "metadata": {
  "kernelspec": {
   "display_name": "Python 3 (ipykernel)",
   "language": "python",
   "name": "python3"
  },
  "language_info": {
   "codemirror_mode": {
    "name": "ipython",
    "version": 3
   },
   "file_extension": ".py",
   "mimetype": "text/x-python",
   "name": "python",
   "nbconvert_exporter": "python",
   "pygments_lexer": "ipython3",
   "version": "3.11.7"
  }
 },
 "nbformat": 4,
 "nbformat_minor": 5
}
