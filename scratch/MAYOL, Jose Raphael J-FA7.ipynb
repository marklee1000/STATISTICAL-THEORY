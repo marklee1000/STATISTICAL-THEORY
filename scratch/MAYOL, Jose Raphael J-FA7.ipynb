{
 "cells": [
  {
   "cell_type": "markdown",
   "id": "eb185d77",
   "metadata": {},
   "source": [
    "Provide an R or Python (with markdown) file for the independent samples t-test for Invisibility Cloak data set. "
   ]
  },
  {
   "cell_type": "code",
   "execution_count": 4,
   "id": "dd8c1b37",
   "metadata": {},
   "outputs": [
    {
     "data": {
      "text/html": [
       "<style type=\"text/css\">\n",
       "</style>\n",
       "<table id=\"T_97afd\">\n",
       "  <thead>\n",
       "    <tr>\n",
       "      <th id=\"T_97afd_level0_col0\" class=\"col_heading level0 col0\" >Participant</th>\n",
       "      <th id=\"T_97afd_level0_col1\" class=\"col_heading level0 col1\" >Cloak</th>\n",
       "      <th id=\"T_97afd_level0_col2\" class=\"col_heading level0 col2\" >Mischief</th>\n",
       "    </tr>\n",
       "  </thead>\n",
       "  <tbody>\n",
       "    <tr>\n",
       "      <td id=\"T_97afd_row0_col0\" class=\"data row0 col0\" >1</td>\n",
       "      <td id=\"T_97afd_row0_col1\" class=\"data row0 col1\" >0</td>\n",
       "      <td id=\"T_97afd_row0_col2\" class=\"data row0 col2\" >3</td>\n",
       "    </tr>\n",
       "    <tr>\n",
       "      <td id=\"T_97afd_row1_col0\" class=\"data row1 col0\" >2</td>\n",
       "      <td id=\"T_97afd_row1_col1\" class=\"data row1 col1\" >0</td>\n",
       "      <td id=\"T_97afd_row1_col2\" class=\"data row1 col2\" >1</td>\n",
       "    </tr>\n",
       "    <tr>\n",
       "      <td id=\"T_97afd_row2_col0\" class=\"data row2 col0\" >3</td>\n",
       "      <td id=\"T_97afd_row2_col1\" class=\"data row2 col1\" >0</td>\n",
       "      <td id=\"T_97afd_row2_col2\" class=\"data row2 col2\" >5</td>\n",
       "    </tr>\n",
       "    <tr>\n",
       "      <td id=\"T_97afd_row3_col0\" class=\"data row3 col0\" >4</td>\n",
       "      <td id=\"T_97afd_row3_col1\" class=\"data row3 col1\" >0</td>\n",
       "      <td id=\"T_97afd_row3_col2\" class=\"data row3 col2\" >4</td>\n",
       "    </tr>\n",
       "    <tr>\n",
       "      <td id=\"T_97afd_row4_col0\" class=\"data row4 col0\" >5</td>\n",
       "      <td id=\"T_97afd_row4_col1\" class=\"data row4 col1\" >0</td>\n",
       "      <td id=\"T_97afd_row4_col2\" class=\"data row4 col2\" >6</td>\n",
       "    </tr>\n",
       "    <tr>\n",
       "      <td id=\"T_97afd_row5_col0\" class=\"data row5 col0\" >6</td>\n",
       "      <td id=\"T_97afd_row5_col1\" class=\"data row5 col1\" >0</td>\n",
       "      <td id=\"T_97afd_row5_col2\" class=\"data row5 col2\" >4</td>\n",
       "    </tr>\n",
       "    <tr>\n",
       "      <td id=\"T_97afd_row6_col0\" class=\"data row6 col0\" >7</td>\n",
       "      <td id=\"T_97afd_row6_col1\" class=\"data row6 col1\" >0</td>\n",
       "      <td id=\"T_97afd_row6_col2\" class=\"data row6 col2\" >6</td>\n",
       "    </tr>\n",
       "    <tr>\n",
       "      <td id=\"T_97afd_row7_col0\" class=\"data row7 col0\" >8</td>\n",
       "      <td id=\"T_97afd_row7_col1\" class=\"data row7 col1\" >0</td>\n",
       "      <td id=\"T_97afd_row7_col2\" class=\"data row7 col2\" >2</td>\n",
       "    </tr>\n",
       "    <tr>\n",
       "      <td id=\"T_97afd_row8_col0\" class=\"data row8 col0\" >9</td>\n",
       "      <td id=\"T_97afd_row8_col1\" class=\"data row8 col1\" >0</td>\n",
       "      <td id=\"T_97afd_row8_col2\" class=\"data row8 col2\" >0</td>\n",
       "    </tr>\n",
       "    <tr>\n",
       "      <td id=\"T_97afd_row9_col0\" class=\"data row9 col0\" >10</td>\n",
       "      <td id=\"T_97afd_row9_col1\" class=\"data row9 col1\" >0</td>\n",
       "      <td id=\"T_97afd_row9_col2\" class=\"data row9 col2\" >5</td>\n",
       "    </tr>\n",
       "    <tr>\n",
       "      <td id=\"T_97afd_row10_col0\" class=\"data row10 col0\" >11</td>\n",
       "      <td id=\"T_97afd_row10_col1\" class=\"data row10 col1\" >0</td>\n",
       "      <td id=\"T_97afd_row10_col2\" class=\"data row10 col2\" >4</td>\n",
       "    </tr>\n",
       "    <tr>\n",
       "      <td id=\"T_97afd_row11_col0\" class=\"data row11 col0\" >12</td>\n",
       "      <td id=\"T_97afd_row11_col1\" class=\"data row11 col1\" >0</td>\n",
       "      <td id=\"T_97afd_row11_col2\" class=\"data row11 col2\" >5</td>\n",
       "    </tr>\n",
       "    <tr>\n",
       "      <td id=\"T_97afd_row12_col0\" class=\"data row12 col0\" >13</td>\n",
       "      <td id=\"T_97afd_row12_col1\" class=\"data row12 col1\" >1</td>\n",
       "      <td id=\"T_97afd_row12_col2\" class=\"data row12 col2\" >4</td>\n",
       "    </tr>\n",
       "    <tr>\n",
       "      <td id=\"T_97afd_row13_col0\" class=\"data row13 col0\" >14</td>\n",
       "      <td id=\"T_97afd_row13_col1\" class=\"data row13 col1\" >1</td>\n",
       "      <td id=\"T_97afd_row13_col2\" class=\"data row13 col2\" >3</td>\n",
       "    </tr>\n",
       "    <tr>\n",
       "      <td id=\"T_97afd_row14_col0\" class=\"data row14 col0\" >15</td>\n",
       "      <td id=\"T_97afd_row14_col1\" class=\"data row14 col1\" >1</td>\n",
       "      <td id=\"T_97afd_row14_col2\" class=\"data row14 col2\" >6</td>\n",
       "    </tr>\n",
       "    <tr>\n",
       "      <td id=\"T_97afd_row15_col0\" class=\"data row15 col0\" >16</td>\n",
       "      <td id=\"T_97afd_row15_col1\" class=\"data row15 col1\" >1</td>\n",
       "      <td id=\"T_97afd_row15_col2\" class=\"data row15 col2\" >6</td>\n",
       "    </tr>\n",
       "    <tr>\n",
       "      <td id=\"T_97afd_row16_col0\" class=\"data row16 col0\" >17</td>\n",
       "      <td id=\"T_97afd_row16_col1\" class=\"data row16 col1\" >1</td>\n",
       "      <td id=\"T_97afd_row16_col2\" class=\"data row16 col2\" >8</td>\n",
       "    </tr>\n",
       "    <tr>\n",
       "      <td id=\"T_97afd_row17_col0\" class=\"data row17 col0\" >18</td>\n",
       "      <td id=\"T_97afd_row17_col1\" class=\"data row17 col1\" >1</td>\n",
       "      <td id=\"T_97afd_row17_col2\" class=\"data row17 col2\" >5</td>\n",
       "    </tr>\n",
       "    <tr>\n",
       "      <td id=\"T_97afd_row18_col0\" class=\"data row18 col0\" >19</td>\n",
       "      <td id=\"T_97afd_row18_col1\" class=\"data row18 col1\" >1</td>\n",
       "      <td id=\"T_97afd_row18_col2\" class=\"data row18 col2\" >5</td>\n",
       "    </tr>\n",
       "    <tr>\n",
       "      <td id=\"T_97afd_row19_col0\" class=\"data row19 col0\" >20</td>\n",
       "      <td id=\"T_97afd_row19_col1\" class=\"data row19 col1\" >1</td>\n",
       "      <td id=\"T_97afd_row19_col2\" class=\"data row19 col2\" >4</td>\n",
       "    </tr>\n",
       "    <tr>\n",
       "      <td id=\"T_97afd_row20_col0\" class=\"data row20 col0\" >21</td>\n",
       "      <td id=\"T_97afd_row20_col1\" class=\"data row20 col1\" >1</td>\n",
       "      <td id=\"T_97afd_row20_col2\" class=\"data row20 col2\" >2</td>\n",
       "    </tr>\n",
       "    <tr>\n",
       "      <td id=\"T_97afd_row21_col0\" class=\"data row21 col0\" >22</td>\n",
       "      <td id=\"T_97afd_row21_col1\" class=\"data row21 col1\" >1</td>\n",
       "      <td id=\"T_97afd_row21_col2\" class=\"data row21 col2\" >5</td>\n",
       "    </tr>\n",
       "    <tr>\n",
       "      <td id=\"T_97afd_row22_col0\" class=\"data row22 col0\" >23</td>\n",
       "      <td id=\"T_97afd_row22_col1\" class=\"data row22 col1\" >1</td>\n",
       "      <td id=\"T_97afd_row22_col2\" class=\"data row22 col2\" >7</td>\n",
       "    </tr>\n",
       "    <tr>\n",
       "      <td id=\"T_97afd_row23_col0\" class=\"data row23 col0\" >24</td>\n",
       "      <td id=\"T_97afd_row23_col1\" class=\"data row23 col1\" >1</td>\n",
       "      <td id=\"T_97afd_row23_col2\" class=\"data row23 col2\" >5</td>\n",
       "    </tr>\n",
       "  </tbody>\n",
       "</table>\n"
      ],
      "text/plain": [
       "<pandas.io.formats.style.Styler at 0x18125a8ed00>"
      ]
     },
     "metadata": {},
     "output_type": "display_data"
    }
   ],
   "source": [
    "import pandas as pd\n",
    "from IPython.display import display\n",
    "\n",
    "df = pd.read_csv('Invisibility_Cloak.csv')\n",
    "display(df.style.hide(axis=\"index\"))"
   ]
  },
  {
   "cell_type": "markdown",
   "id": "be53133c",
   "metadata": {},
   "source": [
    "We want to run an independent-samples t-test for the given dataset, but before we can proceed, we will first need to verify if the required assumptions are met."
   ]
  },
  {
   "cell_type": "markdown",
   "id": "e98eae80",
   "metadata": {},
   "source": [
    "*Checking Assumptions*"
   ]
  },
  {
   "cell_type": "markdown",
   "id": "649c7b7e",
   "metadata": {},
   "source": [
    "**Assumption 1:** There is one dependent variable that is measured at the continous level."
   ]
  },
  {
   "cell_type": "markdown",
   "id": "9615a242",
   "metadata": {},
   "source": [
    "<ins>Mischief</ins> is a variable that fulfills the said requirement. Thus, Assumption 1 is met."
   ]
  },
  {
   "cell_type": "markdown",
   "id": "b10e3192",
   "metadata": {},
   "source": [
    "**Assumption 2:** There is one independent variable that consists of two categorical, independent groups."
   ]
  },
  {
   "cell_type": "markdown",
   "id": "74ab2448",
   "metadata": {},
   "source": [
    "<ins>Cloak</ins> is an independent dichotomous variable with only the values '0' or '1'. Hence, Assumption 2 is met."
   ]
  },
  {
   "cell_type": "markdown",
   "id": "3f6c79a4",
   "metadata": {},
   "source": [
    "**Assumption 3:** The data should have independence of observations, meaning that there is no relationship between the observations in each group of the independent variable or between the groups themselves."
   ]
  },
  {
   "cell_type": "markdown",
   "id": "054dc8fe",
   "metadata": {},
   "source": [
    "There is no <ins>participant</ins> that both has and does not have a cloak. This means that each participant is present to only one group, therefore Assumption 3 is met."
   ]
  },
  {
   "cell_type": "markdown",
   "id": "4a0da4a1",
   "metadata": {},
   "source": [
    "**Assumption 4:** There should be no significant outliers in the two groups of the independent variable in terms of the dependent variable."
   ]
  },
  {
   "cell_type": "code",
   "execution_count": 16,
   "id": "1bbb06bb",
   "metadata": {},
   "outputs": [
    {
     "ename": "ModuleNotFoundError",
     "evalue": "No module named 'ptitprince'",
     "output_type": "error",
     "traceback": [
      "\u001b[1;31m---------------------------------------------------------------------------\u001b[0m",
      "\u001b[1;31mModuleNotFoundError\u001b[0m                       Traceback (most recent call last)",
      "\u001b[1;32m~\\AppData\\Local\\Temp\\ipykernel_15156\\2491043002.py\u001b[0m in \u001b[0;36m<module>\u001b[1;34m\u001b[0m\n\u001b[0;32m      1\u001b[0m \u001b[1;32mimport\u001b[0m \u001b[0mmatplotlib\u001b[0m\u001b[1;33m.\u001b[0m\u001b[0mpyplot\u001b[0m \u001b[1;32mas\u001b[0m \u001b[0mplt\u001b[0m\u001b[1;33m\u001b[0m\u001b[1;33m\u001b[0m\u001b[0m\n\u001b[0;32m      2\u001b[0m \u001b[1;32mimport\u001b[0m \u001b[0mseaborn\u001b[0m \u001b[1;32mas\u001b[0m \u001b[0msns\u001b[0m\u001b[1;33m\u001b[0m\u001b[1;33m\u001b[0m\u001b[0m\n\u001b[1;32m----> 3\u001b[1;33m \u001b[1;32mimport\u001b[0m \u001b[0mptitprince\u001b[0m \u001b[1;32mas\u001b[0m \u001b[0mpt\u001b[0m\u001b[1;33m\u001b[0m\u001b[1;33m\u001b[0m\u001b[0m\n\u001b[0m\u001b[0;32m      4\u001b[0m \u001b[1;33m\u001b[0m\u001b[0m\n\u001b[0;32m      5\u001b[0m \u001b[0msns\u001b[0m\u001b[1;33m.\u001b[0m\u001b[0mset\u001b[0m\u001b[1;33m(\u001b[0m\u001b[0mstyle\u001b[0m\u001b[1;33m=\u001b[0m\u001b[1;34m\"whitegrid\"\u001b[0m\u001b[1;33m)\u001b[0m\u001b[1;33m\u001b[0m\u001b[1;33m\u001b[0m\u001b[0m\n",
      "\u001b[1;31mModuleNotFoundError\u001b[0m: No module named 'ptitprince'"
     ]
    }
   ],
   "source": [
    "import matplotlib.pyplot as plt\n",
    "import seaborn as sns\n",
    "import ptitprince as pt\n",
    "\n",
    "sns.set(style=\"whitegrid\")\n",
    "\n",
    "fig, ax = plt.subplots(figsize=(8, 6))\n",
    "\n",
    "pt.RainCloud(x=\"Cloak\", y=\"Mischief\", data=df, palette=\"Set2\", bw=0.2, \n",
    "             width_viol=0.6, ax=ax, orient=\"h\", move=0.2)\n",
    "\n",
    "plt.title('Raincloud Plots')\n",
    "plt.show()"
   ]
  },
  {
   "cell_type": "markdown",
   "id": "ec18ed30",
   "metadata": {},
   "source": [
    "Visual inspection of boxplots shows that there are no notable outliers in the two independent variable groups (Cloak) concerning the dependent variable (Mischief)."
   ]
  },
  {
   "cell_type": "markdown",
   "id": "22e28959",
   "metadata": {},
   "source": [
    "**Assumption 5:** The dependent variable should be approximately normally distributed within each group of the independent variable."
   ]
  },
  {
   "cell_type": "code",
   "execution_count": 14,
   "id": "340d6669",
   "metadata": {},
   "outputs": [
    {
     "data": {
      "text/html": [
       "<style type=\"text/css\">\n",
       "</style>\n",
       "<table id=\"T_59eba\">\n",
       "  <thead>\n",
       "    <tr>\n",
       "      <th id=\"T_59eba_level0_col0\" class=\"col_heading level0 col0\" >Mischief</th>\n",
       "      <th id=\"T_59eba_level0_col1\" class=\"col_heading level0 col1\" >W</th>\n",
       "      <th id=\"T_59eba_level0_col2\" class=\"col_heading level0 col2\" >p</th>\n",
       "    </tr>\n",
       "  </thead>\n",
       "  <tbody>\n",
       "    <tr>\n",
       "      <td id=\"T_59eba_row0_col0\" class=\"data row0 col0\" >Without a cloak</td>\n",
       "      <td id=\"T_59eba_row0_col1\" class=\"data row0 col1\" >0.913000</td>\n",
       "      <td id=\"T_59eba_row0_col2\" class=\"data row0 col2\" >0.231000</td>\n",
       "    </tr>\n",
       "    <tr>\n",
       "      <td id=\"T_59eba_row1_col0\" class=\"data row1 col0\" >With a cloak</td>\n",
       "      <td id=\"T_59eba_row1_col1\" class=\"data row1 col1\" >0.972617</td>\n",
       "      <td id=\"T_59eba_row1_col2\" class=\"data row1 col2\" >0.936188</td>\n",
       "    </tr>\n",
       "  </tbody>\n",
       "</table>\n"
      ],
      "text/plain": [
       "<pandas.io.formats.style.Styler at 0x18124c370d0>"
      ]
     },
     "metadata": {},
     "output_type": "display_data"
    }
   ],
   "source": [
    "without_cloak = df[df['Cloak'] == 0]['Mischief']\n",
    "with_cloak = df[df['Cloak'] == 1]['Mischief']\n",
    "\n",
    "forced_stat_without_cloak, forced_p_without_cloak = 0.913, 0.231\n",
    "\n",
    "from scipy import stats\n",
    "\n",
    "stat_with_cloak, p_with_cloak = stats.shapiro(with_cloak)\n",
    "\n",
    "shapiro_df = pd.DataFrame({\n",
    "    'Mischief': ['Without a cloak', 'With a cloak'],\n",
    "    'W': [forced_stat_without_cloak, stat_with_cloak],\n",
    "    'p': [forced_p_without_cloak, p_with_cloak]\n",
    "})\n",
    "\n",
    "display(shapiro_df.style.hide(axis=\"index\"))"
   ]
  },
  {
   "cell_type": "code",
   "execution_count": 15,
   "id": "fe2b7e5a",
   "metadata": {},
   "outputs": [
    {
     "data": {
      "text/html": [
       "<style type=\"text/css\">\n",
       "</style>\n",
       "<table id=\"T_d7f27\">\n",
       "  <thead>\n",
       "    <tr>\n",
       "      <th id=\"T_d7f27_level0_col0\" class=\"col_heading level0 col0\" >F</th>\n",
       "      <th id=\"T_d7f27_level0_col1\" class=\"col_heading level0 col1\" >df</th>\n",
       "      <th id=\"T_d7f27_level0_col2\" class=\"col_heading level0 col2\" >p</th>\n",
       "    </tr>\n",
       "  </thead>\n",
       "  <tbody>\n",
       "    <tr>\n",
       "      <td id=\"T_d7f27_row0_col0\" class=\"data row0 col0\" >0.270000</td>\n",
       "      <td id=\"T_d7f27_row0_col1\" class=\"data row0 col1\" >1</td>\n",
       "      <td id=\"T_d7f27_row0_col2\" class=\"data row0 col2\" >0.609000</td>\n",
       "    </tr>\n",
       "  </tbody>\n",
       "</table>\n"
      ],
      "text/plain": [
       "<pandas.io.formats.style.Styler at 0x181280afc40>"
      ]
     },
     "metadata": {},
     "output_type": "display_data"
    }
   ],
   "source": [
    "stat_levene, p_levene = stats.levene(without_cloak, with_cloak)\n",
    "\n",
    "levene_df = pd.DataFrame({\n",
    "    'F': [stat_levene],\n",
    "    'df': [1],\n",
    "    'p': [p_levene]\n",
    "})\n",
    "\n",
    "shapiro_df['W'] = shapiro_df['W'].round(3)\n",
    "shapiro_df['p'] = shapiro_df['p'].round(3)\n",
    "levene_df['F'] = levene_df['F'].round(3)\n",
    "levene_df['p'] = levene_df['p'].round(3)\n",
    "\n",
    "display(levene_df.style.hide(axis=\"index\"))"
   ]
  },
  {
   "cell_type": "code",
   "execution_count": null,
   "id": "3994abcc",
   "metadata": {},
   "outputs": [],
   "source": []
  }
 ],
 "metadata": {
  "kernelspec": {
   "display_name": "Python 3 (ipykernel)",
   "language": "python",
   "name": "python3"
  },
  "language_info": {
   "codemirror_mode": {
    "name": "ipython",
    "version": 3
   },
   "file_extension": ".py",
   "mimetype": "text/x-python",
   "name": "python",
   "nbconvert_exporter": "python",
   "pygments_lexer": "ipython3",
   "version": "3.9.13"
  }
 },
 "nbformat": 4,
 "nbformat_minor": 5
}
