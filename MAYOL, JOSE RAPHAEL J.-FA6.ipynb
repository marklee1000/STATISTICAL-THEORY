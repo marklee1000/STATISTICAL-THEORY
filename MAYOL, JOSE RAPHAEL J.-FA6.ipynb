{
  "metadata": {
    "kernelspec": {
      "name": "python",
      "display_name": "Python (Pyodide)",
      "language": "python"
    },
    "language_info": {
      "codemirror_mode": {
        "name": "python",
        "version": 3
      },
      "file_extension": ".py",
      "mimetype": "text/x-python",
      "name": "python",
      "nbconvert_exporter": "python",
      "pygments_lexer": "ipython3",
      "version": "3.8"
    }
  },
  "nbformat_minor": 4,
  "nbformat": 4,
  "cells": [
    {
      "cell_type": "markdown",
      "source": "**1.) Table 1 shows a frequency distribution of grades on a final examination in college algebra. Find the quartiles of the distribution.**",
      "metadata": {}
    },
    {
      "cell_type": "markdown",
      "source": "To start, we need to reverse the order of the table to make it from lowest to highest. Also, we need to interpolate to find the actual quartile values.",
      "metadata": {}
    },
    {
      "cell_type": "code",
      "source": "import numpy as np\n\ngrades = [\"30-39\", \"40-49\", \"50-59\", \"60-69\", \"70-79\", \"80-89\", \"90-100\"]\nfrequencies = [1, 3, 11, 21, 43, 32, 9]\n\ncumulative_frequencies = np.cumsum(frequencies)\nn = sum(frequencies)\n\nQ1_position = (n * 1) / 4\nQ2_position = (n * 2) / 4\nQ3_position = (n * 3) / 4\n\ndef find_quartile(position):\n    for i, cf in enumerate(cumulative_frequencies):\n        if position <= cf:\n            class_interval = grades[i]\n            lower_bound = int(class_interval.split('-')[0])\n            frequency = frequencies[i]\n            if i == 0:\n                cumulative_frequency_before = 0\n            else:\n                cumulative_frequency_before = cumulative_frequencies[i - 1]\n            return lower_bound + ((position - cumulative_frequency_before) / frequency) * (10)\n\nQ1 = find_quartile(Q1_position)\nQ2 = find_quartile(Q2_position)\nQ3 = find_quartile(Q3_position)\n\nprint(f'Quartile 1: {Q1}\\nQuartile 2: {Q2}\\nQuartile 3: {Q3}\\n')",
      "metadata": {
        "trusted": true
      },
      "outputs": [
        {
          "name": "stdout",
          "text": "Quartile 1: 67.14285714285714\nQuartile 2: 75.5813953488372\nQuartile 3: 83.4375\n\n",
          "output_type": "stream"
        }
      ],
      "execution_count": 32
    },
    {
      "cell_type": "markdown",
      "source": "**2.) On a final examination in statistics, the mean grade of a group of 150 students was 78 and the standard deviation was 8.0. In algebra, however, the mean final grade of the group was 73 and the standard deviation was 7.6. In which subject was there the greater (a) absolute dispersion and (b) relative dispersion?**",
      "metadata": {}
    },
    {
      "cell_type": "code",
      "source": "mean_stats, std_stats, n_stats = 78, 8.0, 150\nmean_algebra, std_algebra, n_algebra = 73, 7.6, 120\n\nprint(f'Absolute Dispersion of Statistics Data: {std_stats}\\nAbsolute Dispersion of Algebra Data: {std_algebra}\\n')\n\nrel_dispersion_stats = (std_stats / mean_stats) * 100\nrel_dispersion_algebra = (std_algebra / mean_algebra) * 100\nprint(f'Relative Dispersion of Statistics Data: {rel_dispersion_stats}\\nRelative Dispersion of Algebra Data: {rel_dispersion_algebra}')",
      "metadata": {
        "trusted": true
      },
      "outputs": [
        {
          "name": "stdout",
          "text": "Absolute Dispersion of Statistics Data: 8.0\nAbsolute Dispersion of Algebra Data: 7.6\n\nRelative Dispersion of Statistics Data: 10.256410256410255\nRelative Dispersion of Algebra Data: 10.410958904109588\n",
          "output_type": "stream"
        }
      ],
      "execution_count": 8
    },
    {
      "cell_type": "markdown",
      "source": "**3.) Prove that the mean and standard deviation of a set of standard scores are equal to 0 and 1, respectively. Use the following problem to illustrate this: Convert the set 6, 2, 8, 7, 5 into standard scores.**",
      "metadata": {}
    },
    {
      "cell_type": "markdown",
      "source": "Consider the set {6, 2, 8, 7, 5}. We will first get the mean and standard deviation of the set so we can convert the data into z-scores.\n\nWe can get the **mean** or first moment by getting the total scores and dividing it by the number of entries, that is, $$\\frac{6+2+8+7+5}{5} = \\frac{28}{5}$$.\n\nTo get the standard deviation, we can use the moment formula:\n$$ \\sigma = \\sqrt{E[X^2] - E[X]^2} $$\n$$ \\sigma = \\sqrt{\\frac{6^2+2^2+8^2+7^2+5^2}{5} - (\\frac{28}{5})^2} $$\n$$ \\sigma = \\frac{\\sqrt{106}}{5} $$\n\nNow, we can get the z-scores for each entry:\n$$ Z = \\frac{X - E[X]}{\\sigma} $$\n$$ Z_1 = \\frac{6 - \\frac{28}{5}}{\\frac{\\sqrt{106}}{5}};  Z_2 = \\frac{2 - \\frac{28}{5}}{\\frac{\\sqrt{106}}{5}};  Z_3 = \\frac{8 - \\frac{28}{5}}{\\frac{\\sqrt{106}}{5}};  Z_4 = \\frac{7 - \\frac{28}{5}}{\\frac{\\sqrt{106}}{5}};  Z_5 = \\frac{5 - \\frac{28}{5}}{\\frac{\\sqrt{106}}{5}} $$\n$$ Z_1 = \\frac{\\sqrt{106}}{53}; Z_2 = \\frac{-9\\sqrt{106}}{53}; Z_3 = \\frac{6\\sqrt{106}}{53}; Z_4 = \\frac{7\\sqrt{106}}{106}; Z_5 = \\frac{-3\\sqrt{106}}{106} $$\n\nWe will now get the mean of the obtained standard scores:\n$$ \\mu = \\frac{\\frac{\\sqrt{106}}{53} + \\frac{-9\\sqrt{106}}{53} + \\frac{6\\sqrt{106}}{53} + \\frac{7\\sqrt{106}}{106} + \\frac{-3\\sqrt{106}}{106}}{5} $$\n$$ \\mu = 0 $$\n\nFor the standard deviation:\n$$ \\sigma = \\sqrt{E[X^2] - E[X]^2} $$\n$$ \\sigma = \\sqrt{[(\\frac{\\frac{\\sqrt{106}}{53})^2 + (\\frac{-9\\sqrt{106}}{53})^2 + (\\frac{6\\sqrt{106}}{53})^2 + (\\frac{7\\sqrt{106}}{106})^2 + (\\frac{-3\\sqrt{106}}{106}}{5})^2] - 0^2} $$\n$$ \\sigma = \\sqrt{1 - 0} $$\n$$ \\sigma = 1 $$",
      "metadata": {}
    },
    {
      "cell_type": "markdown",
      "source": "**4.) Three masses are measured as 20.48, 35.97, and 62.34 g, with standard deviations of 0.21, 0.46, and 0.54 g, respectively. Find the (a)  mean and (b) standard deviation of the sum of the masses.**",
      "metadata": {}
    },
    {
      "cell_type": "code",
      "source": "masses = [20.48, 35.97, 62.34] \nstd_devs = [0.21, 0.46, 0.54]\n\nmean_sum = sum(masses)\nprint(f'The mean of the sum of the masses is {mean_sum}')",
      "metadata": {
        "trusted": true
      },
      "outputs": [
        {
          "name": "stdout",
          "text": "The mean of the sum of the masses is 118.79\n",
          "output_type": "stream"
        }
      ],
      "execution_count": 22
    },
    {
      "cell_type": "code",
      "source": "variance_sum = sum([sd**2 for sd in std_devs])\nsdev_sum = (variance_sum)**(1/2)\n\nprint(f'The standard deviation of the sum of the masses is {sdev_sum}')",
      "metadata": {
        "trusted": true
      },
      "outputs": [
        {
          "name": "stdout",
          "text": "The standard deviation of the sum of the masses is 0.7397972695272672\n",
          "output_type": "stream"
        }
      ],
      "execution_count": 23
    },
    {
      "cell_type": "markdown",
      "source": "**5.) Find 𝜇 and 𝜎^2 . Give the 25 (with replacement) possible samples of size 2, their means, and their probabilities.**",
      "metadata": {}
    },
    {
      "cell_type": "code",
      "source": "x_values = [6, 9, 12, 15, 18]\nprobabilities = [0.1, 0.2, 0.4, 0.2, 0.1]\n\nmean_x = sum([x * p for x, p in zip(x_values, probabilities)])\nvariance_x = sum([((x - mean_x) ** 2) * p for x, p in zip(x_values, probabilities)])\n\nprint(f'The mean of the credit hour distribution is {mean_x}')\nprint(f'The variance of the credit hour distribution is {variance_x}\\n')",
      "metadata": {
        "trusted": true
      },
      "outputs": [
        {
          "name": "stdout",
          "text": "The mean of the credit hour distribution is 12.0\nThe variance of the credit hour distribution is 10.8\n\n",
          "output_type": "stream"
        }
      ],
      "execution_count": 29
    },
    {
      "cell_type": "code",
      "source": "samples = []\nfor x1 in x_values:\n    for x2 in x_values:\n        samples.append((x1, x2))\n\n# Calculate the mean of each sample\nsample_means = [(s[0] + s[1]) / 2 for s in samples]\n\n# Calculate the probability of each sample (product of individual probabilities)\nsample_probs = [\n    probabilities[x_values.index(s[0])] * probabilities[x_values.index(s[1])]\n    for s in samples\n]\n\n# Display the results\nfor sample, mean, prob in zip(samples, sample_means, sample_probs):\n    print(f\"Sample: {sample}, Mean: {mean}, Probability: {prob}\")\n",
      "metadata": {
        "trusted": true
      },
      "outputs": [
        {
          "name": "stdout",
          "text": "Sample: (6, 6), Mean: 6.0, Probability: 0.010000000000000002\nSample: (6, 9), Mean: 7.5, Probability: 0.020000000000000004\nSample: (6, 12), Mean: 9.0, Probability: 0.04000000000000001\nSample: (6, 15), Mean: 10.5, Probability: 0.020000000000000004\nSample: (6, 18), Mean: 12.0, Probability: 0.010000000000000002\nSample: (9, 6), Mean: 7.5, Probability: 0.020000000000000004\nSample: (9, 9), Mean: 9.0, Probability: 0.04000000000000001\nSample: (9, 12), Mean: 10.5, Probability: 0.08000000000000002\nSample: (9, 15), Mean: 12.0, Probability: 0.04000000000000001\nSample: (9, 18), Mean: 13.5, Probability: 0.020000000000000004\nSample: (12, 6), Mean: 9.0, Probability: 0.04000000000000001\nSample: (12, 9), Mean: 10.5, Probability: 0.08000000000000002\nSample: (12, 12), Mean: 12.0, Probability: 0.16000000000000003\nSample: (12, 15), Mean: 13.5, Probability: 0.08000000000000002\nSample: (12, 18), Mean: 15.0, Probability: 0.04000000000000001\nSample: (15, 6), Mean: 10.5, Probability: 0.020000000000000004\nSample: (15, 9), Mean: 12.0, Probability: 0.04000000000000001\nSample: (15, 12), Mean: 13.5, Probability: 0.08000000000000002\nSample: (15, 15), Mean: 15.0, Probability: 0.04000000000000001\nSample: (15, 18), Mean: 16.5, Probability: 0.020000000000000004\nSample: (18, 6), Mean: 12.0, Probability: 0.010000000000000002\nSample: (18, 9), Mean: 13.5, Probability: 0.020000000000000004\nSample: (18, 12), Mean: 15.0, Probability: 0.04000000000000001\nSample: (18, 15), Mean: 16.5, Probability: 0.020000000000000004\nSample: (18, 18), Mean: 18.0, Probability: 0.010000000000000002\n",
          "output_type": "stream"
        }
      ],
      "execution_count": 30
    }
  ]
}