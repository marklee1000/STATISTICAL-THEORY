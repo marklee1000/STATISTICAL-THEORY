{
 "cells": [
  {
   "cell_type": "markdown",
   "id": "b5d0efc3-460e-4af7-b670-2a143e3685ae",
   "metadata": {},
   "source": [
    "# Analysis of Mean Weekly Time Spent on Cell Phones by Male and Female College Students at Midwestern University"
   ]
  },
  {
   "cell_type": "markdown",
   "id": "3dd9b66a-c984-436c-8b6b-d94015237617",
   "metadata": {},
   "source": [
    "## I. Overview"
   ]
  },
  {
   "cell_type": "markdown",
   "id": "562417ae-b665-4def-9f0b-5090bea37302",
   "metadata": {},
   "source": [
    "This study was conducted to compare the mean time spent on cell phones per week by male and female college students at Midwestern University. Fifty male and fifty female students from Midwestern University were randomly selected, and the time spent on cell phones was recorded. The study aims to determine whether there is a significant difference in the mean time spent on cell phones between these two groups."
   ]
  },
  {
   "cell_type": "markdown",
   "id": "9a4eea6c-31a8-4905-ad5c-efcfb5827cd3",
   "metadata": {},
   "source": [
    "### Guide Questions:"
   ]
  },
  {
   "cell_type": "markdown",
   "id": "3663e267-0a9e-43e3-ac74-6311c762cd29",
   "metadata": {},
   "source": [
    "<ol>\n",
    "    <li>Formulate and present the rationale for a hypothesis test that the researcher could use to compare the mean time spent on cell phones by male and female college students per week.</li>\n",
    "    <li>Analyze the data to provide the hypothesis testing conclusion. What is the p-value for your test? What is your recommendation for the researcher?</li>\n",
    "    <li>Provide descriptive statistical summaries of the data for each gender category.</li>\n",
    "    <li>What is the 95% confidence interval for the population mean of each gender category, and what is the 95% confidence interval for the difference between the means of the two populations?</li>\n",
    "    <li>Do you see a need for larger sample sizes and more testing with the time spent on cell phones? Discuss.</li>\n",
    "    <li>Make a report including the testing of the assumptions for two independent samples t-test.</li>\n",
    "</ol>"
   ]
  },
  {
   "cell_type": "markdown",
   "id": "3e19222a-b53c-4f62-8372-8fc72b00fe76",
   "metadata": {},
   "source": [
    "### The Dataset"
   ]
  },
  {
   "cell_type": "code",
   "execution_count": 50,
   "id": "953aaa40-72c6-4637-95ed-001fdb425e47",
   "metadata": {},
   "outputs": [],
   "source": [
    "males = [12,7,7,10,8,10,11,9,9,13,4,9,12,11,9,9,7,12,10,13,11,10,6,12,11,9,10,12,8,9,13,10,9,7,10,7,10,8,11,10,11,7,15,8,9,9,11,13,10,13]\n",
    "females = [11,10,11,10,11,12,12,10,9,9,9,10,8,7,12,9,7,8,9,8,7,7,9,9,12,10,9,13,9,9,10,9,6,12,8,11,8,8,11,12,9,10,11,14,12,7,11,10,9,11]"
   ]
  },
  {
   "cell_type": "markdown",
   "id": "e9b8fe9a-c241-4c06-aa6d-aec335b5f0aa",
   "metadata": {},
   "source": [
    "The data shows an equal pairing of 50 male and 50 female university students, along with their weekly mean cell phone times."
   ]
  },
  {
   "cell_type": "markdown",
   "id": "934056a1-62d3-4986-90c7-0cc5383c2738",
   "metadata": {},
   "source": [
    "For this report, the following modules will be relevant:"
   ]
  },
  {
   "cell_type": "code",
   "execution_count": 55,
   "id": "14623aa7-f12d-4e15-8353-cdd6c3de28ef",
   "metadata": {},
   "outputs": [],
   "source": [
    "import numpy as np\n",
    "import pandas as pd\n",
    "import matplotlib.pyplot as plt\n",
    "import ptitprince as pt\n",
    "from scipy import stats\n",
    "from IPython.display import display, HTML"
   ]
  },
  {
   "cell_type": "markdown",
   "id": "cfba97d5-a2d1-4829-ae41-29be2533fb2e",
   "metadata": {},
   "source": [
    "## II. Formulation of Hypotheses"
   ]
  },
  {
   "cell_type": "markdown",
   "id": "63b5ef07-dfae-4ba1-af2d-f571163d7d8b",
   "metadata": {},
   "source": [
    "The goal is to test whether there is a significant difference in the mean time spent on cell phones between male and female college students. The null hypothesis ($H_0$) assumes that the means for both groups are equal, while the alternative hypothesis ($H_1$) assumes that the means are not equal."
   ]
  },
  {
   "cell_type": "markdown",
   "id": "1b2aff48-d4ed-446e-878d-decac2db5710",
   "metadata": {},
   "source": [
    "$H_0 : \\mu_1 = \\mu_2$ (There is no difference in the mean time spent on cell phones between males and females.)"
   ]
  },
  {
   "cell_type": "markdown",
   "id": "53ffbe18-f741-4d45-be69-43220ed64815",
   "metadata": {},
   "source": [
    "$H_1 : \\mu_1 \\neq \\mu_2$ (There is a difference in the mean time spent on cell phones between males and females.)"
   ]
  },
  {
   "cell_type": "markdown",
   "id": "996ac541-6470-4418-91da-93ac90aff714",
   "metadata": {},
   "source": [
    "An independent samples t-test will be used to compare the means of two independent groups (males and females), assuming the six prerequisite assumptions are met."
   ]
  },
  {
   "cell_type": "markdown",
   "id": "34c2dc73-9fc2-4c70-a4a6-1b01f3845f3a",
   "metadata": {},
   "source": [
    "## III. Descriptive Statistics"
   ]
  },
  {
   "cell_type": "markdown",
   "id": "dfeb043d-2f71-47a7-92be-cc6df124ac77",
   "metadata": {},
   "source": [
    "### Males"
   ]
  },
  {
   "cell_type": "code",
   "execution_count": 45,
   "id": "7903e473-8d95-4f19-8392-d2c3cd9e5994",
   "metadata": {},
   "outputs": [
    {
     "data": {
      "text/html": [
       "<h4 style=\"text-align: left;\">Descriptive Statistics for Males</h2>"
      ],
      "text/plain": [
       "<IPython.core.display.HTML object>"
      ]
     },
     "metadata": {},
     "output_type": "display_data"
    },
    {
     "data": {
      "text/html": [
       "<style type=\"text/css\">\n",
       "#T_9b08c td.row-1 {\n",
       "  border-top: 3px solid black;\n",
       "}\n",
       "</style>\n",
       "<table id=\"T_9b08c\">\n",
       "  <thead>\n",
       "    <tr>\n",
       "      <th class=\"blank level0\" >&nbsp;</th>\n",
       "      <th id=\"T_9b08c_level0_col0\" class=\"col_heading level0 col0\" >Score</th>\n",
       "    </tr>\n",
       "  </thead>\n",
       "  <tbody>\n",
       "    <tr>\n",
       "      <th id=\"T_9b08c_level0_row0\" class=\"row_heading level0 row0\" >Valid</th>\n",
       "      <td id=\"T_9b08c_row0_col0\" class=\"data row0 col0\" >50</td>\n",
       "    </tr>\n",
       "    <tr>\n",
       "      <th id=\"T_9b08c_level0_row1\" class=\"row_heading level0 row1\" >Mode ᵃ</th>\n",
       "      <td id=\"T_9b08c_row1_col0\" class=\"data row1 col0\" >9.000</td>\n",
       "    </tr>\n",
       "    <tr>\n",
       "      <th id=\"T_9b08c_level0_row2\" class=\"row_heading level0 row2\" >Median</th>\n",
       "      <td id=\"T_9b08c_row2_col0\" class=\"data row2 col0\" >10.000</td>\n",
       "    </tr>\n",
       "    <tr>\n",
       "      <th id=\"T_9b08c_level0_row3\" class=\"row_heading level0 row3\" >Mean</th>\n",
       "      <td id=\"T_9b08c_row3_col0\" class=\"data row3 col0\" >9.820</td>\n",
       "    </tr>\n",
       "    <tr>\n",
       "      <th id=\"T_9b08c_level0_row4\" class=\"row_heading level0 row4\" >Std. Deviation</th>\n",
       "      <td id=\"T_9b08c_row4_col0\" class=\"data row4 col0\" >2.154</td>\n",
       "    </tr>\n",
       "    <tr>\n",
       "      <th id=\"T_9b08c_level0_row5\" class=\"row_heading level0 row5\" >Variance</th>\n",
       "      <td id=\"T_9b08c_row5_col0\" class=\"data row5 col0\" >4.640</td>\n",
       "    </tr>\n",
       "    <tr>\n",
       "      <th id=\"T_9b08c_level0_row6\" class=\"row_heading level0 row6\" >Skewness</th>\n",
       "      <td id=\"T_9b08c_row6_col0\" class=\"data row6 col0\" >-0.115</td>\n",
       "    </tr>\n",
       "    <tr>\n",
       "      <th id=\"T_9b08c_level0_row7\" class=\"row_heading level0 row7\" >Std. Error of Skewness</th>\n",
       "      <td id=\"T_9b08c_row7_col0\" class=\"data row7 col0\" >0.337</td>\n",
       "    </tr>\n",
       "    <tr>\n",
       "      <th id=\"T_9b08c_level0_row8\" class=\"row_heading level0 row8\" >Kurtosis</th>\n",
       "      <td id=\"T_9b08c_row8_col0\" class=\"data row8 col0\" >0.177</td>\n",
       "    </tr>\n",
       "    <tr>\n",
       "      <th id=\"T_9b08c_level0_row9\" class=\"row_heading level0 row9\" >Std. Error of Kurtosis</th>\n",
       "      <td id=\"T_9b08c_row9_col0\" class=\"data row9 col0\" >0.662</td>\n",
       "    </tr>\n",
       "    <tr>\n",
       "      <th id=\"T_9b08c_level0_row10\" class=\"row_heading level0 row10\" >Minimum</th>\n",
       "      <td id=\"T_9b08c_row10_col0\" class=\"data row10 col0\" >4.000</td>\n",
       "    </tr>\n",
       "    <tr>\n",
       "      <th id=\"T_9b08c_level0_row11\" class=\"row_heading level0 row11\" >Maximum</th>\n",
       "      <td id=\"T_9b08c_row11_col0\" class=\"data row11 col0\" >15.000</td>\n",
       "    </tr>\n",
       "    <tr>\n",
       "      <th id=\"T_9b08c_level0_row12\" class=\"row_heading level0 row12\" >25th percentile</th>\n",
       "      <td id=\"T_9b08c_row12_col0\" class=\"data row12 col0\" >9.000</td>\n",
       "    </tr>\n",
       "    <tr>\n",
       "      <th id=\"T_9b08c_level0_row13\" class=\"row_heading level0 row13\" >50th percentile</th>\n",
       "      <td id=\"T_9b08c_row13_col0\" class=\"data row13 col0\" >10.000</td>\n",
       "    </tr>\n",
       "    <tr>\n",
       "      <th id=\"T_9b08c_level0_row14\" class=\"row_heading level0 row14\" >75th percentile</th>\n",
       "      <td id=\"T_9b08c_row14_col0\" class=\"data row14 col0\" >11.000</td>\n",
       "    </tr>\n",
       "    <tr>\n",
       "      <th id=\"T_9b08c_level0_row15\" class=\"row_heading level0 row15\" >90th percentile</th>\n",
       "      <td id=\"T_9b08c_row15_col0\" class=\"data row15 col0\" >13.000</td>\n",
       "    </tr>\n",
       "    <tr>\n",
       "      <th id=\"T_9b08c_level0_row16\" class=\"row_heading level0 row16\" >95th percentile</th>\n",
       "      <td id=\"T_9b08c_row16_col0\" class=\"data row16 col0\" >13.000</td>\n",
       "    </tr>\n",
       "    <tr>\n",
       "      <th id=\"T_9b08c_level0_row17\" class=\"row_heading level0 row17\" ></th>\n",
       "      <td id=\"T_9b08c_row17_col0\" class=\"data row17 col0\" >ᵃ More than one mode exists, only the first is reported</td>\n",
       "    </tr>\n",
       "  </tbody>\n",
       "</table>\n"
      ],
      "text/plain": [
       "<pandas.io.formats.style.Styler at 0x1cca53a51d0>"
      ]
     },
     "metadata": {},
     "output_type": "display_data"
    }
   ],
   "source": [
    "\n",
    "\n",
    "df_m = pd.DataFrame(males)\n",
    "\n",
    "count_m = df_m.count().to_frame(name=\"Valid\").transpose()\n",
    "\n",
    "central_tends_m = df_m.agg(['median', 'mean', 'std', 'var', 'skew'])\n",
    "central_tends_m.rename(index={'median': 'Median', 'mean': 'Mean', 'std': 'Std. Deviation', 'var': 'Variance', 'skew': 'Skewness'}, inplace=True)\n",
    "\n",
    "mode_pre_m = pd.Series(males).mode().tolist()\n",
    "mode_d_m = {'Mode ᵃ': mode_pre_m}\n",
    "mode_df_m = pd.DataFrame(mode_d_m)\n",
    "mode_m = mode_df_m.transpose()[0].to_frame()\n",
    "\n",
    "def skew_sde(x):\n",
    "    n = len(x)\n",
    "    return np.sqrt(6 * n * (n-1) / ((n-2) * (n+1) * (n+3)))\n",
    "error_skew_m = df_m.apply(skew_sde).to_frame(name=\"Std. Error of Skewness\").transpose()\n",
    "\n",
    "kurtosis_m = df_m.kurtosis().to_frame(name=\"Kurtosis\").transpose()\n",
    "\n",
    "def kurt_sde(x):\n",
    "    n = len(x)\n",
    "    return np.sqrt(24 * n * (n-1)**2 / ((n-3) * (n-2) * (n+3) * (n+5)))\n",
    "error_kurt_m = df_m.apply(kurt_sde).to_frame(name=\"Std. Error of Kurtosis\").transpose()\n",
    "\n",
    "extremes_m = df_m.agg(['min', 'max'])\n",
    "extremes_m = extremes_m.rename(index={'min': 'Minimum', 'max': 'Maximum'})\n",
    "percentiles_m = df_m.quantile([0.25, 0.50, 0.75, 0.90, 0.95])\n",
    "percentiles_m = percentiles_m.rename(index={0.25: '25th percentile', 0.50: '50th percentile', 0.75: '75th percentile', 0.90: '90th percentile', 0.95: '95th percentile'})\n",
    "\n",
    "final_table_m = pd.concat([count_m, mode_m, central_tends_m, error_skew_m, kurtosis_m, error_kurt_m, extremes_m, percentiles_m])\n",
    "final_table_m = final_table_m.rename(columns={0: 'Score'})\n",
    "description = pd.DataFrame(data={'Score': ['ᵃ More than one mode exists, only the first is reported']}, index=[''])\n",
    "final_table_m = pd.concat([final_table_m, description])\n",
    "final_table_m.loc['Valid', 'Score'] = int(final_table_m.loc['Valid', 'Score'])\n",
    "\n",
    "def format_values(x):\n",
    "    if isinstance(x, float):\n",
    "        return f'{x:.3f}'\n",
    "    return x\n",
    "\n",
    "final_table_m['Score'] = final_table_m['Score'].apply(format_values)\n",
    "final_table_m = final_table_m.style.set_table_styles({\n",
    "    ('', ''): [{'selector': 'td', 'props': 'border-top: 3px solid black;'}]\n",
    "}, overwrite=False, axis=1)\n",
    "\n",
    "title_html = '<h4 style=\"text-align: left;\">Descriptive Statistics for Males</h2>'\n",
    "display(HTML(title_html))\n",
    "display(final_table_m)"
   ]
  },
  {
   "cell_type": "markdown",
   "id": "624e7e62-b63e-4231-96d6-ea3117c75deb",
   "metadata": {},
   "source": [
    "### Females"
   ]
  },
  {
   "cell_type": "code",
   "execution_count": 46,
   "id": "9ba2f081-9ea4-423c-9ee8-dd26ab025e52",
   "metadata": {},
   "outputs": [
    {
     "data": {
      "text/html": [
       "<h4 style=\"text-align: left;\">Descriptive Statistics for Females</h2>"
      ],
      "text/plain": [
       "<IPython.core.display.HTML object>"
      ]
     },
     "metadata": {},
     "output_type": "display_data"
    },
    {
     "data": {
      "text/html": [
       "<style type=\"text/css\">\n",
       "#T_c9c2c td.row-1 {\n",
       "  border-top: 3px solid black;\n",
       "}\n",
       "</style>\n",
       "<table id=\"T_c9c2c\">\n",
       "  <thead>\n",
       "    <tr>\n",
       "      <th class=\"blank level0\" >&nbsp;</th>\n",
       "      <th id=\"T_c9c2c_level0_col0\" class=\"col_heading level0 col0\" >Score</th>\n",
       "    </tr>\n",
       "  </thead>\n",
       "  <tbody>\n",
       "    <tr>\n",
       "      <th id=\"T_c9c2c_level0_row0\" class=\"row_heading level0 row0\" >Valid</th>\n",
       "      <td id=\"T_c9c2c_row0_col0\" class=\"data row0 col0\" >50.000</td>\n",
       "    </tr>\n",
       "    <tr>\n",
       "      <th id=\"T_c9c2c_level0_row1\" class=\"row_heading level0 row1\" >Mode</th>\n",
       "      <td id=\"T_c9c2c_row1_col0\" class=\"data row1 col0\" >9.000</td>\n",
       "    </tr>\n",
       "    <tr>\n",
       "      <th id=\"T_c9c2c_level0_row2\" class=\"row_heading level0 row2\" >Median</th>\n",
       "      <td id=\"T_c9c2c_row2_col0\" class=\"data row2 col0\" >9.500</td>\n",
       "    </tr>\n",
       "    <tr>\n",
       "      <th id=\"T_c9c2c_level0_row3\" class=\"row_heading level0 row3\" >Mean</th>\n",
       "      <td id=\"T_c9c2c_row3_col0\" class=\"data row3 col0\" >9.700</td>\n",
       "    </tr>\n",
       "    <tr>\n",
       "      <th id=\"T_c9c2c_level0_row4\" class=\"row_heading level0 row4\" >Std. Deviation</th>\n",
       "      <td id=\"T_c9c2c_row4_col0\" class=\"data row4 col0\" >1.776</td>\n",
       "    </tr>\n",
       "    <tr>\n",
       "      <th id=\"T_c9c2c_level0_row5\" class=\"row_heading level0 row5\" >Variance</th>\n",
       "      <td id=\"T_c9c2c_row5_col0\" class=\"data row5 col0\" >3.153</td>\n",
       "    </tr>\n",
       "    <tr>\n",
       "      <th id=\"T_c9c2c_level0_row6\" class=\"row_heading level0 row6\" >Skewness</th>\n",
       "      <td id=\"T_c9c2c_row6_col0\" class=\"data row6 col0\" >0.134</td>\n",
       "    </tr>\n",
       "    <tr>\n",
       "      <th id=\"T_c9c2c_level0_row7\" class=\"row_heading level0 row7\" >Std. Error of Skewness</th>\n",
       "      <td id=\"T_c9c2c_row7_col0\" class=\"data row7 col0\" >0.337</td>\n",
       "    </tr>\n",
       "    <tr>\n",
       "      <th id=\"T_c9c2c_level0_row8\" class=\"row_heading level0 row8\" >Kurtosis</th>\n",
       "      <td id=\"T_c9c2c_row8_col0\" class=\"data row8 col0\" >-0.442</td>\n",
       "    </tr>\n",
       "    <tr>\n",
       "      <th id=\"T_c9c2c_level0_row9\" class=\"row_heading level0 row9\" >Std. Error of Kurtosis</th>\n",
       "      <td id=\"T_c9c2c_row9_col0\" class=\"data row9 col0\" >0.662</td>\n",
       "    </tr>\n",
       "    <tr>\n",
       "      <th id=\"T_c9c2c_level0_row10\" class=\"row_heading level0 row10\" >Minimum</th>\n",
       "      <td id=\"T_c9c2c_row10_col0\" class=\"data row10 col0\" >6.000</td>\n",
       "    </tr>\n",
       "    <tr>\n",
       "      <th id=\"T_c9c2c_level0_row11\" class=\"row_heading level0 row11\" >Maximum</th>\n",
       "      <td id=\"T_c9c2c_row11_col0\" class=\"data row11 col0\" >14.000</td>\n",
       "    </tr>\n",
       "    <tr>\n",
       "      <th id=\"T_c9c2c_level0_row12\" class=\"row_heading level0 row12\" >25th percentile</th>\n",
       "      <td id=\"T_c9c2c_row12_col0\" class=\"data row12 col0\" >9.000</td>\n",
       "    </tr>\n",
       "    <tr>\n",
       "      <th id=\"T_c9c2c_level0_row13\" class=\"row_heading level0 row13\" >50th percentile</th>\n",
       "      <td id=\"T_c9c2c_row13_col0\" class=\"data row13 col0\" >9.500</td>\n",
       "    </tr>\n",
       "    <tr>\n",
       "      <th id=\"T_c9c2c_level0_row14\" class=\"row_heading level0 row14\" >75th percentile</th>\n",
       "      <td id=\"T_c9c2c_row14_col0\" class=\"data row14 col0\" >11.000</td>\n",
       "    </tr>\n",
       "    <tr>\n",
       "      <th id=\"T_c9c2c_level0_row15\" class=\"row_heading level0 row15\" >90th percentile</th>\n",
       "      <td id=\"T_c9c2c_row15_col0\" class=\"data row15 col0\" >12.000</td>\n",
       "    </tr>\n",
       "    <tr>\n",
       "      <th id=\"T_c9c2c_level0_row16\" class=\"row_heading level0 row16\" >95th percentile</th>\n",
       "      <td id=\"T_c9c2c_row16_col0\" class=\"data row16 col0\" >12.000</td>\n",
       "    </tr>\n",
       "  </tbody>\n",
       "</table>\n"
      ],
      "text/plain": [
       "<pandas.io.formats.style.Styler at 0x1cc9bc9b310>"
      ]
     },
     "metadata": {},
     "output_type": "display_data"
    }
   ],
   "source": [
    "df_f = pd.DataFrame(females)\n",
    "\n",
    "count_f = df_f.count().to_frame(name=\"Valid\").transpose()\n",
    "\n",
    "central_tends_f = df_f.agg(['median', 'mean', 'std', 'var', 'skew'])\n",
    "central_tends_f.rename(index={'median': 'Median', 'mean': 'Mean', 'std': 'Std. Deviation', 'var': 'Variance', 'skew': 'Skewness'}, inplace=True)\n",
    "\n",
    "mode_pre_f = pd.Series(females).mode().tolist()\n",
    "mode_d_f = {'Mode': mode_pre_f}\n",
    "mode_df_f = pd.DataFrame(mode_d_f)\n",
    "mode_f = mode_df_f.transpose()[0].to_frame()\n",
    "\n",
    "error_skew_f = df_f.apply(skew_sde).to_frame(name=\"Std. Error of Skewness\").transpose()\n",
    "kurtosis_f = df_f.kurtosis().to_frame(name=\"Kurtosis\").transpose()\n",
    "error_kurt_f = df_f.apply(kurt_sde).to_frame(name=\"Std. Error of Kurtosis\").transpose()\n",
    "\n",
    "extremes_f = df_f.agg(['min', 'max'])\n",
    "extremes_f = extremes_f.rename(index={'min': 'Minimum', 'max': 'Maximum'})\n",
    "percentiles_f = df_f.quantile([0.25, 0.50, 0.75, 0.90, 0.95])\n",
    "percentiles_f = percentiles_f.rename(index={0.25: '25th percentile', 0.50: '50th percentile', 0.75: '75th percentile', 0.90: '90th percentile', 0.95: '95th percentile'})\n",
    "\n",
    "final_table_f = pd.concat([count_f, mode_f, central_tends_f, error_skew_f, kurtosis_f, error_kurt_f, extremes_f, percentiles_f])\n",
    "final_table_f = final_table_f.rename(columns={0: 'Score'})\n",
    "final_table_f.loc['Valid', 'Score'] = int(final_table_f.loc['Valid', 'Score'])\n",
    "\n",
    "final_table_f['Score'] = final_table_f['Score'].apply(format_values)\n",
    "final_table_f = final_table_f.style.set_table_styles({\n",
    "    ('', ''): [{'selector': 'td', 'props': 'border-top: 3px solid black;'}]\n",
    "}, overwrite=False, axis=1)\n",
    "\n",
    "title_html = '<h4 style=\"text-align: left;\">Descriptive Statistics for Females</h2>'\n",
    "display(HTML(title_html))\n",
    "display(final_table_f)"
   ]
  },
  {
   "cell_type": "markdown",
   "id": "ca019245-0b85-4f82-ae25-80655cb7d141",
   "metadata": {},
   "source": [
    "## IV. Checking Assumptions"
   ]
  },
  {
   "cell_type": "markdown",
   "id": "6c36aaa9-4c34-4543-95bd-5d69db512e67",
   "metadata": {},
   "source": [
    "### Assumption 1: There is one dependent variable that is measured at the continuous level."
   ]
  },
  {
   "cell_type": "markdown",
   "id": "104e9f9f-deab-47bb-8105-f10163774cd4",
   "metadata": {},
   "source": [
    "The dependent variable is the number of hours spent on cell phones, which is measured in a continuous scale. This assumption is met."
   ]
  },
  {
   "cell_type": "markdown",
   "id": "7b7ddeaf-ecd4-495a-8d1f-8626e4a6fadc",
   "metadata": {},
   "source": [
    "### Assumption 2: There is one independent variable that consists of two categorical, independent groups."
   ]
  },
  {
   "cell_type": "markdown",
   "id": "9712918d-710a-4439-8de7-7dd62f56ae78",
   "metadata": {},
   "source": [
    "The independent variable is sex (male and female), which is a dichotomous variable with two independent groups. This assumption is met."
   ]
  },
  {
   "cell_type": "markdown",
   "id": "b758f7b1-2278-4a69-a257-dd2ef6eec2cc",
   "metadata": {},
   "source": [
    "### Assumption 3: The data should have independence of observations, meaning that there is no relationship between the observations in each group of the independent variable or between the groups themselves."
   ]
  },
  {
   "cell_type": "markdown",
   "id": "260a6762-83b2-4982-80cc-4b231f3b5033",
   "metadata": {},
   "source": [
    "There is no participant that is both male and female in this dataset. This means that each participant is present to only one group, therefore Assumption 3 is met."
   ]
  },
  {
   "cell_type": "markdown",
   "id": "6ee776ae-02e6-41cd-a475-23f6f3caee6c",
   "metadata": {},
   "source": [
    "### Assumption 4: There should be no significant outliers in the two groups of the independent variable in terms of the dependent variable."
   ]
  },
  {
   "cell_type": "code",
   "execution_count": 54,
   "id": "952f469c-54f3-4d70-b64b-dc9b073e65ae",
   "metadata": {},
   "outputs": [
    {
     "data": {
      "image/png": "[encoded data removed]",
      "text/plain": [
       "<Figure size 1000x600 with 1 Axes>"
      ]
     },
     "metadata": {},
     "output_type": "display_data"
    }
   ],
   "source": [
    "df_combined = pd.DataFrame({\n",
    "    'Time_Spent': males + females,\n",
    "    'Sex': ['Male'] * len(males) + ['Female'] * len(females)\n",
    "})\n",
    "\n",
    "plt.figure(figsize=(10, 6))\n",
    "raincloud = pt.RainCloud(x='Sex', y='Time_Spent', data=df_combined, palette='Set2', \n",
    "                          bw=0.3, width_viol=0.6, ax=None)\n",
    "\n",
    "plt.title('Raincloud Plots', fontsize=14, style='italic')\n",
    "plt.show()"
   ]
  },
  {
   "cell_type": "markdown",
   "id": "b24275db-6f1e-42c7-8ffd-4efb513fb185",
   "metadata": {},
   "source": [
    "By visual inspection, it can be observed that there are two outliers in the Male group (4 & 15). However, we can still run the independent samples t-test since the distribution is normal and the variances are homogeneous, as shown later."
   ]
  },
  {
   "cell_type": "markdown",
   "id": "82cbfb93-652d-4fea-b233-e8e5e28ccbf3",
   "metadata": {},
   "source": [
    "### Assumption 5: The dependent variable should be approximately normally distributed within each group of the independent variable."
   ]
  },
  {
   "cell_type": "code",
   "execution_count": 44,
   "id": "d9a66bab-910e-47a9-8beb-465cc120fd02",
   "metadata": {},
   "outputs": [
    {
     "data": {
      "text/html": [
       "<style type=\"text/css\">\n",
       "</style>\n",
       "<table id=\"T_94ac0\">\n",
       "  <thead>\n",
       "    <tr>\n",
       "      <th id=\"T_94ac0_level0_col0\" class=\"col_heading level0 col0\" >Sex</th>\n",
       "      <th id=\"T_94ac0_level0_col1\" class=\"col_heading level0 col1\" >W</th>\n",
       "      <th id=\"T_94ac0_level0_col2\" class=\"col_heading level0 col2\" >p</th>\n",
       "    </tr>\n",
       "  </thead>\n",
       "  <tbody>\n",
       "    <tr>\n",
       "      <td id=\"T_94ac0_row0_col0\" class=\"data row0 col0\" >Males</td>\n",
       "      <td id=\"T_94ac0_row0_col1\" class=\"data row0 col1\" >0.974654</td>\n",
       "      <td id=\"T_94ac0_row0_col2\" class=\"data row0 col2\" >0.353992</td>\n",
       "    </tr>\n",
       "    <tr>\n",
       "      <td id=\"T_94ac0_row1_col0\" class=\"data row1 col0\" >Females</td>\n",
       "      <td id=\"T_94ac0_row1_col1\" class=\"data row1 col1\" >0.963877</td>\n",
       "      <td id=\"T_94ac0_row1_col2\" class=\"data row1 col2\" >0.129197</td>\n",
       "    </tr>\n",
       "  </tbody>\n",
       "</table>\n"
      ],
      "text/plain": [
       "<pandas.io.formats.style.Styler at 0x1cca64ed890>"
      ]
     },
     "metadata": {},
     "output_type": "display_data"
    }
   ],
   "source": [
    "from scipy import stats\n",
    "\n",
    "stat_males, p_males = stats.shapiro(males)\n",
    "stat_females, p_females = stats.shapiro(females)\n",
    "\n",
    "shapiro_df = pd.DataFrame({\n",
    "    'Sex': ['Males', 'Females'],\n",
    "    'W': [stat_males, stat_females],\n",
    "    'p': [p_males, p_females]\n",
    "})\n",
    "\n",
    "display(shapiro_df.style.hide(axis=\"index\"))"
   ]
  },
  {
   "cell_type": "markdown",
   "id": "10e7cb67-4bf5-4ea5-bb7a-c1cd77daa17a",
   "metadata": {},
   "source": [
    "Since both p-values are greater than 0.05, the assumption of normality is met for both groups."
   ]
  },
  {
   "cell_type": "markdown",
   "id": "f3a5121d-e09e-40f7-97fb-ba8af668beb4",
   "metadata": {},
   "source": [
    "### Assumption 6: There should be an equality of variances between the groups with and without the Cloak on their number of Mischief. If p > 0.05, then this hypothesis is met."
   ]
  },
  {
   "cell_type": "code",
   "execution_count": 42,
   "id": "07fa2cf0-5c22-44b0-8a77-c538ba136e76",
   "metadata": {},
   "outputs": [
    {
     "data": {
      "text/html": [
       "<style type=\"text/css\">\n",
       "</style>\n",
       "<table id=\"T_e38cc\">\n",
       "  <thead>\n",
       "    <tr>\n",
       "      <th id=\"T_e38cc_level0_col0\" class=\"col_heading level0 col0\" >F</th>\n",
       "      <th id=\"T_e38cc_level0_col1\" class=\"col_heading level0 col1\" >df</th>\n",
       "      <th id=\"T_e38cc_level0_col2\" class=\"col_heading level0 col2\" >p</th>\n",
       "    </tr>\n",
       "  </thead>\n",
       "  <tbody>\n",
       "    <tr>\n",
       "      <td id=\"T_e38cc_row0_col0\" class=\"data row0 col0\" >0.694000</td>\n",
       "      <td id=\"T_e38cc_row0_col1\" class=\"data row0 col1\" >1</td>\n",
       "      <td id=\"T_e38cc_row0_col2\" class=\"data row0 col2\" >0.407000</td>\n",
       "    </tr>\n",
       "  </tbody>\n",
       "</table>\n"
      ],
      "text/plain": [
       "<pandas.io.formats.style.Styler at 0x1cca64ee450>"
      ]
     },
     "metadata": {},
     "output_type": "display_data"
    }
   ],
   "source": [
    "stat_levene, p_levene = stats.levene(males, females)\n",
    "\n",
    "levene_df = pd.DataFrame({\n",
    "    'F': [stat_levene],\n",
    "    'df': [1],\n",
    "    'p': [p_levene]\n",
    "})\n",
    "\n",
    "levene_df['F'] = levene_df['F'].round(3)\n",
    "levene_df['p'] = levene_df['p'].round(3)\n",
    "\n",
    "display(levene_df.style.hide(axis=\"index\"))"
   ]
  },
  {
   "cell_type": "markdown",
   "id": "224c0300-11c9-4738-b516-03063e5a47e5",
   "metadata": {},
   "source": [
    "The p-value for Levene's test is greater than 0.05, indicating that the assumption of equal variances is met."
   ]
  },
  {
   "cell_type": "markdown",
   "id": "9142f9d1-f151-4dd2-9355-969ba3dddcb8",
   "metadata": {},
   "source": [
    "## V. Sample Size"
   ]
  },
  {
   "cell_type": "markdown",
   "id": "1e78b6aa-65bf-44ee-96e4-7cd60d1ddc05",
   "metadata": {},
   "source": [
    "Given the results—normal distribution, equal variances, and close means between the male and female groups—there seems to be little justification for increasing the sample size or conducting additional tests. The fact that the means are nearly identical indicates that the differences between the two groups are minimal. A larger sample size is unlikely to change this conclusion, as the current data already suggests that any difference between the groups is small or non-existent.\r\n",
    "\r\n",
    "Low variability within the groups means that the data points are relatively consistent, leading to a high level of precision in the current estimates. This precision suggests that further data collection would likely yield similar results. Increasing the sample size in such a context might slightly reduce uncertainty, but the effect is unlikely to become significant or meaningful based on the current trends. The high p-value (0.76) indicates that there is very little evidence to reject the null hypothesis. Even with a larger sample, this is unlikely to change significantly, as the data already points to the absence of a meaningful effect. Furthermore, since the study takes place inside a university setting, then the population is more likely to have more homogeneous demographics.\r\n",
    "\r\n",
    "Additionally, while increasing the sample size could theoretically result in statistical significance (especially for very small effects), it’s important to consider practical relevance. Given the close means, even if a larger sample revealed a statistically significant result, the effect size would still likely be trivial, offering little real-world importance. In behavioral studies like this one, practical significance is often more important than statistical significance, and based on the current evidence, the observed difference between the groups appears to be negligible. Therefore, further testing or a larger sample size is not warranted."
   ]
  },
  {
   "cell_type": "markdown",
   "id": "eb226f4a-9607-4664-b846-db5da858c5d5",
   "metadata": {},
   "source": [
    "## VI. Independent Samples T-Test"
   ]
  },
  {
   "cell_type": "markdown",
   "id": "b9ebbb32-ce39-4988-a498-c857ae354fa8",
   "metadata": {},
   "source": [
    "The data has met most of the six assumptions, proven that the outliers do not significantly impact the results, and shown that the sample size is adequate in the study's context. Hence, an independent samples t-test can be conducted to compare the means of the two groups."
   ]
  },
  {
   "cell_type": "markdown",
   "id": "ae0e7b32-4887-4e17-822f-b2719ea6c53f",
   "metadata": {},
   "source": [
    "### 95% Confidence Intervals"
   ]
  },
  {
   "cell_type": "code",
   "execution_count": 48,
   "id": "18bc39a3-caa8-4821-bf81-9f046f6e3adc",
   "metadata": {},
   "outputs": [
    {
     "data": {
      "text/html": [
       "<style type=\"text/css\">\n",
       "</style>\n",
       "<table id=\"T_549e2\">\n",
       "  <thead>\n",
       "    <tr>\n",
       "      <th id=\"T_549e2_level0_col0\" class=\"col_heading level0 col0\" >Group</th>\n",
       "      <th id=\"T_549e2_level0_col1\" class=\"col_heading level0 col1\" >Lower Bound (95% CI)</th>\n",
       "      <th id=\"T_549e2_level0_col2\" class=\"col_heading level0 col2\" >Upper Bound (95% CI)</th>\n",
       "    </tr>\n",
       "  </thead>\n",
       "  <tbody>\n",
       "    <tr>\n",
       "      <td id=\"T_549e2_row0_col0\" class=\"data row0 col0\" >Males</td>\n",
       "      <td id=\"T_549e2_row0_col1\" class=\"data row0 col1\" >9.207794</td>\n",
       "      <td id=\"T_549e2_row0_col2\" class=\"data row0 col2\" >10.432206</td>\n",
       "    </tr>\n",
       "    <tr>\n",
       "      <td id=\"T_549e2_row1_col0\" class=\"data row1 col0\" >Females</td>\n",
       "      <td id=\"T_549e2_row1_col1\" class=\"data row1 col1\" >9.195356</td>\n",
       "      <td id=\"T_549e2_row1_col2\" class=\"data row1 col2\" >10.204644</td>\n",
       "    </tr>\n",
       "    <tr>\n",
       "      <td id=\"T_549e2_row2_col0\" class=\"data row2 col0\" >Difference (Males - Females)</td>\n",
       "      <td id=\"T_549e2_row2_col1\" class=\"data row2 col1\" >-0.663474</td>\n",
       "      <td id=\"T_549e2_row2_col2\" class=\"data row2 col2\" >0.903474</td>\n",
       "    </tr>\n",
       "  </tbody>\n",
       "</table>\n"
      ],
      "text/plain": [
       "<pandas.io.formats.style.Styler at 0x1cca61652d0>"
      ]
     },
     "metadata": {},
     "output_type": "display_data"
    }
   ],
   "source": [
    "males_mean = np.mean(males)\n",
    "females_mean = np.mean(females)\n",
    "\n",
    "ci_males = stats.t.interval(0.95, len(males)-1, loc=males_mean, scale=stats.sem(males))\n",
    "ci_females = stats.t.interval(0.95, len(females)-1, loc=females_mean, scale=stats.sem(females))\n",
    "\n",
    "alpha = 0.05\n",
    "critical_value = stats.t.ppf(1 - alpha/2, df)\n",
    "margin_of_error = critical_value * se_diff\n",
    "ci_lower = (diff_mean - margin_of_error)\n",
    "ci_upper = (diff_mean + margin_of_error)\n",
    "\n",
    "diff_mean = males_mean - females_mean\n",
    "se_diff = np.sqrt((np.var(males, ddof=1) / n1) + (np.var(females, ddof=1) / n2))\n",
    "ci_diff = (ci_lower, ci_upper)\n",
    "\n",
    "ci_data = {\n",
    "    'Group': ['Males', 'Females', 'Difference (Males - Females)'],\n",
    "    'Lower Bound (95% CI)': [ci_males[0], ci_females[0], ci_diff[0]],\n",
    "    'Upper Bound (95% CI)': [ci_males[1], ci_females[1], ci_diff[1]]\n",
    "}\n",
    "\n",
    "df_ci = pd.DataFrame(ci_data)\n",
    "display(df_ci.style.hide(axis=\"index\"))"
   ]
  },
  {
   "cell_type": "markdown",
   "id": "36f150c0-d34f-4705-b818-bb0a90d37c7f",
   "metadata": {},
   "source": [
    "Notice that the interval for the difference in means include 0. This will be important for interpreting the results of the t-test later."
   ]
  },
  {
   "cell_type": "markdown",
   "id": "d73e1c29-d263-45e1-95d7-da4080342092",
   "metadata": {},
   "source": [
    "### P-Value & Test Proper"
   ]
  },
  {
   "cell_type": "code",
   "execution_count": 51,
   "id": "d267baea-6859-40fb-8481-0e21ff8ee660",
   "metadata": {},
   "outputs": [
    {
     "data": {
      "text/html": [
       "<style type=\"text/css\">\n",
       "</style>\n",
       "<table id=\"T_43baa\">\n",
       "  <thead>\n",
       "    <tr>\n",
       "      <th id=\"T_43baa_level0_col0\" class=\"col_heading level0 col0\" >t</th>\n",
       "      <th id=\"T_43baa_level0_col1\" class=\"col_heading level0 col1\" >df</th>\n",
       "      <th id=\"T_43baa_level0_col2\" class=\"col_heading level0 col2\" >p</th>\n",
       "      <th id=\"T_43baa_level0_col3\" class=\"col_heading level0 col3\" >Mean Difference</th>\n",
       "      <th id=\"T_43baa_level0_col4\" class=\"col_heading level0 col4\" >SE Difference</th>\n",
       "      <th id=\"T_43baa_level0_col5\" class=\"col_heading level0 col5\" >95% CI for Mean Difference (Lower; Upper)</th>\n",
       "    </tr>\n",
       "  </thead>\n",
       "  <tbody>\n",
       "    <tr>\n",
       "      <td id=\"T_43baa_row0_col0\" class=\"data row0 col0\" >0.303949</td>\n",
       "      <td id=\"T_43baa_row0_col1\" class=\"data row0 col1\" >98</td>\n",
       "      <td id=\"T_43baa_row0_col2\" class=\"data row0 col2\" >0.761811</td>\n",
       "      <td id=\"T_43baa_row0_col3\" class=\"data row0 col3\" >0.120000</td>\n",
       "      <td id=\"T_43baa_row0_col4\" class=\"data row0 col4\" >0.394803</td>\n",
       "      <td id=\"T_43baa_row0_col5\" class=\"data row0 col5\" >(-0.6635; 0.9035)</td>\n",
       "    </tr>\n",
       "  </tbody>\n",
       "</table>\n"
      ],
      "text/plain": [
       "<pandas.io.formats.style.Styler at 0x1cc9bec9190>"
      ]
     },
     "metadata": {},
     "output_type": "display_data"
    }
   ],
   "source": [
    "n1 = len(males)\n",
    "n2 = len(females)\n",
    "df = n1 + n2 - 2\n",
    "\n",
    "t_statistic, p_value = stats.ttest_ind(males, females)\n",
    "\n",
    "results_df = pd.DataFrame({\n",
    "    't': [t_statistic],\n",
    "    'df': [df],\n",
    "    'p': [p_value],\n",
    "    'Mean Difference': [diff_mean],\n",
    "    'SE Difference': [se_diff],\n",
    "    '95% CI for Mean Difference (Lower; Upper)': [f'({ci_lower:.4f}; {ci_upper:.4f})']\n",
    "})\n",
    "\n",
    "display(results_df.style.hide(axis=\"index\"))"
   ]
  },
  {
   "cell_type": "markdown",
   "id": "f8b5a689-752b-44d6-ad6c-33c2d78c1998",
   "metadata": {},
   "source": [
    "The independent samples t-test yields a p-value of 0.76, which is greater than the significance level of 0.05. Therefore, **we fail to reject the null hypothesis**. This suggests that there is no statistically significant difference in the mean time spent on cell phones between male and female students. Additionally, since the confidence interval for the difference in means includes 0, this brings more support and foundation to our conclusion."
   ]
  },
  {
   "cell_type": "markdown",
   "id": "29f00526-3a4a-4d13-9e19-684a2c7c5883",
   "metadata": {},
   "source": [
    "## VII. Discussion and Recommendations"
   ]
  },
  {
   "cell_type": "markdown",
   "id": "7e5d4d3e-0280-42e9-b824-5f384040b501",
   "metadata": {},
   "source": [
    "This study aimed to compare the mean time spent on cell phones by male and female college students from Midwestern University, potentially discovering behavioral patterns that may have implications for understanding communication trends among young adults. The analysis utilized a balanced sample of 50 male and 50 female students from a university characterized by relatively homogenized demographics (e.g. similar ages, similar regions, etc.), which enhances the generalizability of the findings to the broader student population.\n",
    "\n",
    "The preliminary analysis & assumption checking identified the presence of outliers in the male dataset, specifically the values 4 and 15. Although these outliers raised concerns regarding their potential impact on the results, the Shapiro-Wilk normality and Levene homogeneity tests confirmed that the assumptions required for the independent samples t-test were still satisfied. Consequently, this allowed for valid conclusions regarding the mean time spent on cell phones between genders.\n",
    "\n",
    "The results of the independent samples t-test indicated no significant difference in the mean time spent on cell phones between male and female students. This finding suggests that gender does not play a crucial role in influencing cell phone usage behaviors among the students in this sample. It is an important insight, as it highlights the potential for similar communication practices across genders within the context of Midwestern University. Furthermore, this signifies the possibility for others to make more generalized yet informed assumptions for behavior among university students. However, larger population scopes will introduce more varying factors such as religion and socioeconomic status, which will significantly reduce homogeneity and affect the results of future studies.\n",
    "\n",
    "The sufficiency of the sample size is noteworthy, as the research was conducted within a university environment where the demographics are generally more homogenous. This uniformity minimizes extraneous variables that could skew results, enabling a clearer interpretation of the findings related to cell phone usage for the said context.\n",
    "\n",
    "These insights can inform the university's policies and programs that are aimed at promoting healthy communication habits among all students, regardless of gender. Understanding that both male and female students engage similarly in cell phone usage emphasizes the necessity of developing interventions that cater to the entire student body, rather than focusing solely on gender-specific strategies.\n",
    "\n",
    "As technology continues to evolve and shape the way communication takes place, the findings highlight the importance of ongoing research in this area. The lack of significant differences in cell phone usage patterns suggests that communication dynamics may be more influenced by contextual factors, such as individual habits and preferences, rather than strictly by gender. Thus, future studies could explore other variables that may contribute to differences in technology use, further enriching our understanding of social dynamics in the digital age."
   ]
  }
 ],
 "metadata": {
  "kernelspec": {
   "display_name": "Python 3 (ipykernel)",
   "language": "python",
   "name": "python3"
  },
  "language_info": {
   "codemirror_mode": {
    "name": "ipython",
    "version": 3
   },
   "file_extension": ".py",
   "mimetype": "text/x-python",
   "name": "python",
   "nbconvert_exporter": "python",
   "pygments_lexer": "ipython3",
   "version": "3.11.7"
  }
 },
 "nbformat": 4,
 "nbformat_minor": 5
}
